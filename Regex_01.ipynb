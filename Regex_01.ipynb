{
 "cells": [
  {
   "cell_type": "markdown",
   "metadata": {},
   "source": [
    "# Regular expression trong Python\n",
    "\n",
    "### BS. Lê Ngọc Khả Nhi\n",
    "\n",
    "\n",
    "# Giới thiệu\n",
    "\n",
    "Qua loạt bài (sẽ kéo dài nhiều kỳ) này, Nhi muốn hướng dẫn các bạn đồng nghiệp về một chủ đề thuộc loại khó nhất trong những kỹ năng lập trình với ngôn ngữ Python, đó là Regular expression (tạm dịch: biểu thức chính quy), viết tắt là Regex. Đối tượng của bài học sẽ là các bác sĩ với những thí dụ về Y học thực hành.\n",
    "\n",
    "Regular expression có thể dễ hay khó hiểu vô cùng, tùy vào lộ trình học và thực hành. Một thư viện nhỏ (re) với chỉ 3-4 hàm, vài kí tự đại diện và quy tắc tóm gọn chưa đến 1 trang giấy; nhưng khi tổ hợp lại với nhau, Regular expression lại trở thành 1 cơn ác mộng cho người mới bắt đầu và nếu không được dẫn đường, người học như lạc vào mê cung và thấy mình đang gõ những chuỗi kí tự vô nghĩa như con khỉ trong 'infinite monkey theorem'\n",
    "\n",
    "Trước khi bắt đầu, hãy bàn về câu hỏi này: tại sao bạn cần biết về regular expression ? Câu trả lời là vì \n",
    "không sớm thì muộn, với vai trò data scientist - bạn sẽ phải làm việc với dữ liệu thô chứa văn bản hoặc chuỗi kí tự; thí dụ một số nhiệm vụ:\n",
    "\n",
    "1) Nhận diện và trích xuất các triệu chứng, tên thuốc, chẩn đoán... từ bệnh án\n",
    "2) Trích xuất dữ liệu thô (con số, ngày tháng, label) từ file txt chứa dữ liệu thô\n",
    "3) Trích xuất địa chỉ, điện thoại, email từ database\n",
    "4) Lấy thông tin từ một trang web\n",
    "5) Thao tác trên file path, file extension, file name, web adress...\n",
    "6) Thu thập dữ liệu từ bảng câu hỏi với câu trả lời tự do không theo công thức nào cả\n",
    "7) Machine learning trên dữ liệu văn bản\n",
    "\n",
    "...\n",
    "\n",
    "Danh sách này sẽ còn dài, và chúng đều có điểm chung, đó là bạn đang làm công việc đối chiếu, truy tìm, sàng lọc, phân nhóm hoặc biên tập những chuỗi kí tự theo một công thức hay quy tắc nhất định nào đó. Việc biên tập và xử lý văn bản này được sự trợ giúp của Regular expression.\n",
    "\n",
    "Regular expression là một hệ thống cú pháp, kí hiệu, cho phép tạo ra một chuỗi kí tự có tính quy ước/kiểu mẫu (pattern). Pattern tổng quát sau đó được dưa vào các hàm để thực hiện việc tìm kiếm hoặc biên tập các chuỗi kí tự hay văn bản cụ thể. Regular expression được module 're' có sẵn trong Python hỗ trợ, và như đã nói ở trên, cấu trúc module này rất đơn giản. Khó khăn nằm ở việc hiểu và vận dụng linh hoạt các quy tắc cú pháp của regex."
   ]
  },
  {
   "cell_type": "code",
   "execution_count": 1,
   "metadata": {},
   "outputs": [],
   "source": [
    "import re"
   ]
  },
  {
   "cell_type": "markdown",
   "metadata": {},
   "source": [
    "# Module re: một số hàm thông dụng\n",
    "\n",
    "1) re.compile(<cú pháp regex>) dùng để tạo ra pattern hay chuỗi quy ước\n",
    "\n",
    "2) re.match(pattern, target, flags) đối chiếu chuỗi target với pattern \n",
    "\n",
    "3) re.search(pattern,target, flags) truy tìm và định vị sự xuất hiện lần đầu tiên của pattern trong chuỗi target\n",
    "\n",
    "4) re.findall(pattern, target, flags) liệt kê tất cả những lần xuất hiện của pattern trong target\n",
    "\n",
    "5) re.finditer(pattern, target, flags) có công dụng tương tự findall, nhưng xuất ra 1 iterator thay vì 1 list. \n",
    "\n",
    "Ta tạm dừng ở đây, trước khi bắt đầu sử dụng các hàm này ta cần tìm hiểu về string (kiểu dữ liệu chuỗi kí tự) trong Python, nếu bạn mới làm quen với Python và chưa biết rõ về string, có thể đọc qua bài này: \n",
    "https://nbviewer.jupyter.org/github/kinokoberuji/R-Tutorials/blob/master/R-notebooks/Python%20strings.ipynb\n",
    "\n",
    "# Khác biệt giữa string và raw string\n",
    "\n",
    "Sau khi hiểu khái niệm string và các method liên quan, ta cần biết thêm về sự khác biệt giữa string và raw string. \n",
    "\n",
    "raw string được tạo ra bằng cách đặt r trước 'nội dung string', raw string sẽ thể hiện trung thành tất cả kí tự bên trong nội dung, bao gồm các meta character và backlash. Trái lại, string sẽ hiển thị kết quả của tổ hợp backlash và một số character; như trong các thí dụ sau:\n",
    "\n",
    "Để hiểu ý nghĩa của tổ hợp backlash, bạn có thể xem tại đây:\n",
    "https://linuxconfig.org/list-of-python-escape-sequence-characters-with-examples"
   ]
  },
  {
   "cell_type": "code",
   "execution_count": 8,
   "metadata": {},
   "outputs": [
    {
     "name": "stdout",
     "output_type": "stream",
     "text": [
      "\\\n",
      "\\\\\n"
     ]
    }
   ],
   "source": [
    "print('\\\\')\n",
    "\n",
    "print(r'\\\\')"
   ]
  },
  {
   "cell_type": "code",
   "execution_count": 9,
   "metadata": {},
   "outputs": [
    {
     "name": "stdout",
     "output_type": "stream",
     "text": [
      "'\n",
      "\\'\n"
     ]
    }
   ],
   "source": [
    "print('\\'')\n",
    "\n",
    "print(r'\\'')"
   ]
  },
  {
   "cell_type": "code",
   "execution_count": 10,
   "metadata": {},
   "outputs": [
    {
     "name": "stdout",
     "output_type": "stream",
     "text": [
      "\"\n",
      "\\\"\n"
     ]
    }
   ],
   "source": [
    "print(\"\\\"\")\n",
    "\n",
    "print(r\"\\\"\")"
   ]
  },
  {
   "cell_type": "code",
   "execution_count": 11,
   "metadata": {},
   "outputs": [
    {
     "name": "stdout",
     "output_type": "stream",
     "text": [
      "\u0007\n",
      "\\a\n"
     ]
    }
   ],
   "source": [
    "print('\\a')\n",
    "\n",
    "print(r'\\a')"
   ]
  },
  {
   "cell_type": "code",
   "execution_count": 12,
   "metadata": {},
   "outputs": [
    {
     "name": "stdout",
     "output_type": "stream",
     "text": [
      "ab\bc\n",
      "ab\\bc\n"
     ]
    }
   ],
   "source": [
    "print (\"ab\" + \"\\b\" + \"c\")\n",
    "\n",
    "print (\"ab\" + r\"\\b\" + \"c\")"
   ]
  },
  {
   "cell_type": "code",
   "execution_count": 16,
   "metadata": {},
   "outputs": [
    {
     "name": "stdout",
     "output_type": "stream",
     "text": [
      "hàng thứ 1\n",
      "hàng thứ 2\n",
      "hàng thứ 1\\nhàng thứ2\n"
     ]
    }
   ],
   "source": [
    "print('hàng thứ 1\\nhàng thứ 2')\n",
    "\n",
    "print(r'hàng thứ 1\\nhàng thứ2')"
   ]
  },
  {
   "cell_type": "code",
   "execution_count": 17,
   "metadata": {},
   "outputs": [
    {
     "name": "stdout",
     "output_type": "stream",
     "text": [
      "123456\r",
      "ABC\n",
      "123456\\rABC\n"
     ]
    }
   ],
   "source": [
    "print('123456\\rABC')\n",
    "\n",
    "print(r'123456\\rABC')"
   ]
  },
  {
   "cell_type": "code",
   "execution_count": 18,
   "metadata": {},
   "outputs": [
    {
     "name": "stdout",
     "output_type": "stream",
     "text": [
      "abc\tabc\n",
      "abc\\tabc\n"
     ]
    }
   ],
   "source": [
    "print('abc\\tabc')\n",
    "print(r'abc\\tabc')"
   ]
  },
  {
   "cell_type": "code",
   "execution_count": 19,
   "metadata": {},
   "outputs": [
    {
     "name": "stdout",
     "output_type": "stream",
     "text": [
      "ա\n",
      "\\u0561\n"
     ]
    }
   ],
   "source": [
    "print(u'\\u0561')\n",
    "\n",
    "print(r'\\u0561')"
   ]
  },
  {
   "cell_type": "code",
   "execution_count": 20,
   "metadata": {},
   "outputs": [
    {
     "name": "stdout",
     "output_type": "stream",
     "text": [
      "Ʃ\n",
      "\\U000001a9\n"
     ]
    }
   ],
   "source": [
    "print(u\"\\U000001a9\")\n",
    "\n",
    "print(r\"\\U000001a9\")"
   ]
  },
  {
   "cell_type": "code",
   "execution_count": 21,
   "metadata": {},
   "outputs": [
    {
     "name": "stdout",
     "output_type": "stream",
     "text": [
      "#\n",
      "\\043\n"
     ]
    }
   ],
   "source": [
    "print('\\043')\n",
    "\n",
    "print(r'\\043')"
   ]
  },
  {
   "cell_type": "code",
   "execution_count": 22,
   "metadata": {},
   "outputs": [
    {
     "name": "stdout",
     "output_type": "stream",
     "text": [
      "#\n",
      "\\x23\n"
     ]
    }
   ],
   "source": [
    "print('\\x23')\n",
    "\n",
    "print(r'\\x23')"
   ]
  },
  {
   "cell_type": "markdown",
   "metadata": {},
   "source": [
    "Vì backlash là 1 phần trong cú pháp của regex, nên để an toàn ta cần dùng raw-string khi compile pattern nếu cú pháp regex có chứa backlash"
   ]
  },
  {
   "cell_type": "markdown",
   "metadata": {},
   "source": [
    "# Một thí dụ đơn giản về quy trình tìm kiếm với re\n",
    "\n",
    "Thí dụ: tìm chuỗi kí tự 'đau' trong một câu văn:"
   ]
  },
  {
   "cell_type": "code",
   "execution_count": 24,
   "metadata": {},
   "outputs": [
    {
     "name": "stdout",
     "output_type": "stream",
     "text": [
      "Triệu chứng: sốt, ho, đau cổ, đau nhức cơ, đau ngực, khó thở\n"
     ]
    }
   ],
   "source": [
    "target = 'Triệu chứng: sốt, ho, đau cổ, đau nhức cơ, đau ngực, khó thở'\n",
    "\n",
    "print(target)"
   ]
  },
  {
   "cell_type": "markdown",
   "metadata": {},
   "source": [
    "Có thể đưa pattern vào hàm search theo 2 cách: (1) compile và save thành object pattern rồi search, hoặc (2) search trực tiếp với cú pháp regex: "
   ]
  },
  {
   "cell_type": "code",
   "execution_count": 26,
   "metadata": {},
   "outputs": [
    {
     "data": {
      "text/plain": [
       "<re.Match object; span=(22, 25), match='đau'>"
      ]
     },
     "execution_count": 26,
     "metadata": {},
     "output_type": "execute_result"
    }
   ],
   "source": [
    "pattern = re.compile('đau')\n",
    "\n",
    "re.search(pattern, target)"
   ]
  },
  {
   "cell_type": "code",
   "execution_count": 27,
   "metadata": {},
   "outputs": [
    {
     "data": {
      "text/plain": [
       "<re.Match object; span=(22, 25), match='đau'>"
      ]
     },
     "execution_count": 27,
     "metadata": {},
     "output_type": "execute_result"
    }
   ],
   "source": [
    "re.search('đau', target)"
   ]
  },
  {
   "cell_type": "markdown",
   "metadata": {},
   "source": [
    "Việc ta vừa làm gọi là literal research, khi pattern là một chuỗi có ý nghĩa rõ ràng, cụ thể và tường minh chứ không phải là một quy tắc có tính trừu tượng mà ta sẽ tìm hiểu sau này.\n",
    "\n",
    "Ta chú ý kết quả hàm search về 2 điểm:\n",
    "\n",
    "1) Hàm search chỉ xuất ra lần xuất hiện đầu tiên của pattern\n",
    "\n",
    "2) span(start, end) cho biết vị trí khởi đầu và kết thúc của kết quả\n",
    "\n",
    "3) match cho biết nội dung của kết quả (chính là pattern)"
   ]
  },
  {
   "cell_type": "code",
   "execution_count": 28,
   "metadata": {},
   "outputs": [
    {
     "data": {
      "text/plain": [
       "'đ'"
      ]
     },
     "execution_count": 28,
     "metadata": {},
     "output_type": "execute_result"
    }
   ],
   "source": [
    "target[22]  # khởi đầu = 22"
   ]
  },
  {
   "cell_type": "code",
   "execution_count": 33,
   "metadata": {},
   "outputs": [
    {
     "data": {
      "text/plain": [
       "'u'"
      ]
     },
     "execution_count": 33,
     "metadata": {},
     "output_type": "execute_result"
    }
   ],
   "source": [
    "target[24] # kết thúc = 25-1"
   ]
  },
  {
   "cell_type": "code",
   "execution_count": 31,
   "metadata": {},
   "outputs": [
    {
     "data": {
      "text/plain": [
       "'đau'"
      ]
     },
     "execution_count": 31,
     "metadata": {},
     "output_type": "execute_result"
    }
   ],
   "source": [
    "target[22:25] # định vị kết quả"
   ]
  },
  {
   "cell_type": "markdown",
   "metadata": {},
   "source": [
    "Hàm bool cho phép tóm tắt kết quả tìm kiếm: True = tìm thấy"
   ]
  },
  {
   "cell_type": "code",
   "execution_count": 34,
   "metadata": {},
   "outputs": [
    {
     "data": {
      "text/plain": [
       "True"
      ]
     },
     "execution_count": 34,
     "metadata": {},
     "output_type": "execute_result"
    }
   ],
   "source": [
    "bool(re.search('đau', target))"
   ]
  },
  {
   "cell_type": "markdown",
   "metadata": {},
   "source": [
    "Nếu không tìm thấy pattern, hàm search trả kết quả None"
   ]
  },
  {
   "cell_type": "code",
   "execution_count": 36,
   "metadata": {},
   "outputs": [
    {
     "data": {
      "text/plain": [
       "<re.Match object; span=(43, 51), match='đau ngực'>"
      ]
     },
     "execution_count": 36,
     "metadata": {},
     "output_type": "execute_result"
    }
   ],
   "source": [
    "re.search('đau ngực', target)"
   ]
  },
  {
   "cell_type": "code",
   "execution_count": 37,
   "metadata": {},
   "outputs": [],
   "source": [
    "re.search('đau bụng', target) # không tìm ra"
   ]
  },
  {
   "cell_type": "code",
   "execution_count": 39,
   "metadata": {},
   "outputs": [
    {
     "data": {
      "text/plain": [
       "False"
      ]
     },
     "execution_count": 39,
     "metadata": {},
     "output_type": "execute_result"
    }
   ],
   "source": [
    "bool(re.search('đau đầu', target)) # không tìm ra"
   ]
  },
  {
   "cell_type": "markdown",
   "metadata": {},
   "source": [
    "# Sự khác biệt giữa search (truy tìm) và match (đối chiếu)\n",
    "    \n",
    "Match đối chiếu từ đầu target với pattern, nó chỉ xác nhận nếu tìm ra pattern ở đầu target, nhưng không tìm ra nếu pattern nằm ở giữa target\n",
    "\n",
    "Trong khi đó, search tìm ra pattern ở bất cứ vị trí nào"
   ]
  },
  {
   "cell_type": "code",
   "execution_count": 41,
   "metadata": {},
   "outputs": [
    {
     "data": {
      "text/plain": [
       "<re.Match object; span=(0, 11), match='Triệu chứng'>"
      ]
     },
     "execution_count": 41,
     "metadata": {},
     "output_type": "execute_result"
    }
   ],
   "source": [
    "re.match('Triệu chứng', target) # tìm ra vì Triệu chứng nằm ở đầu câu"
   ]
  },
  {
   "cell_type": "code",
   "execution_count": 42,
   "metadata": {},
   "outputs": [],
   "source": [
    "re.match('đau', target) # không tìm ra"
   ]
  },
  {
   "cell_type": "markdown",
   "metadata": {},
   "source": [
    "# Findall : liệt kê nhưng không định vị\n",
    "\n",
    "Search chỉ tìm ra lần xuất hiện đầu tiên cua pattern, nhưng findall sẽ tìm ra tất cả những lần xuất hiện của pattern, tuy nhiên nó không cho phép định vị, mà chỉ xuất ra 1 danh sách:"
   ]
  },
  {
   "cell_type": "code",
   "execution_count": 43,
   "metadata": {},
   "outputs": [
    {
     "data": {
      "text/plain": [
       "['đau', 'đau', 'đau']"
      ]
     },
     "execution_count": 43,
     "metadata": {},
     "output_type": "execute_result"
    }
   ],
   "source": [
    "re.findall('đau', target)"
   ]
  },
  {
   "cell_type": "markdown",
   "metadata": {},
   "source": [
    "# Finditer: liệt kê và định vị trong một iterator\n",
    "\n",
    "Finditer có tính năng giống như findall, nó cũng cho phép định vị, nhưng kết quả xuất ra không phải là 1 list mà là 1 iterator:"
   ]
  },
  {
   "cell_type": "code",
   "execution_count": 44,
   "metadata": {},
   "outputs": [
    {
     "data": {
      "text/plain": [
       "<callable_iterator at 0x1f520099c88>"
      ]
     },
     "execution_count": 44,
     "metadata": {},
     "output_type": "execute_result"
    }
   ],
   "source": [
    "re.finditer('đau', target)"
   ]
  },
  {
   "cell_type": "code",
   "execution_count": 45,
   "metadata": {},
   "outputs": [
    {
     "name": "stdout",
     "output_type": "stream",
     "text": [
      "<re.Match object; span=(22, 25), match='đau'>\n",
      "<re.Match object; span=(30, 33), match='đau'>\n",
      "<re.Match object; span=(43, 46), match='đau'>\n"
     ]
    }
   ],
   "source": [
    "# Mở gói iterator findall:\n",
    "\n",
    "for match in re.finditer('đau', target):\n",
    "    print(match)"
   ]
  },
  {
   "cell_type": "code",
   "execution_count": 47,
   "metadata": {},
   "outputs": [
    {
     "name": "stdout",
     "output_type": "stream",
     "text": [
      "(22, 25)\n",
      "(30, 33)\n",
      "(43, 46)\n"
     ]
    }
   ],
   "source": [
    "# Mở gói giá trị span của iterator findall:\n",
    "\n",
    "for match in re.finditer('đau', target):\n",
    "    print(match.span())"
   ]
  },
  {
   "cell_type": "code",
   "execution_count": 55,
   "metadata": {},
   "outputs": [
    {
     "name": "stdout",
     "output_type": "stream",
     "text": [
      "đau\n",
      "đau\n",
      "đau\n"
     ]
    }
   ],
   "source": [
    "for match in re.finditer('đau', target):\n",
    "    print(target[match.span()[0] : match.span()[1]])"
   ]
  },
  {
   "cell_type": "markdown",
   "metadata": {},
   "source": [
    "# Những character classes cơ bản\n",
    "\n",
    "Đến đây, ta vẵn chưa chạm gì đến Regular expression, vì literal pattern chỉ là dạng đơn giản nhất regular expression. \n",
    "\n",
    "Ta sẽ khởi động một chút với những từ khóa cơ bản trong regex: \n",
    "\n",
    ".  = đại diện cho tất cả kí tự, ngoại trừ \\n (newline)\n",
    "\n",
    "\\d = đại diện cho tất cả con số từ 0 đến 9 [0-9]\n",
    "\n",
    "\\D = không phải \\d (không phải con số)\n",
    "\n",
    "\\w  = tất cả nhóm kí tự tạo thành 1 từ (bao gồm kí tự + con số \n",
    "      mở đầu/kết thúc bằng khoảng trắng) [a-zA-z0-9_]\n",
    "    \n",
    "\\W = mọi kí tự không phải 1 từ (khác với \\w)\n",
    "\n",
    "\\s = tất cả kí tự khoảng trắng, [ \\t\\n\\r\\f\\v]\n",
    "\\S = tất cả kí tự khác với \\s\n",
    "\n",
    "Như vậy, ta có mẹo nhớ là: chữ in hoa là phủ định của chữ thường (s và S, d và D, w và W)"
   ]
  },
  {
   "cell_type": "code",
   "execution_count": 59,
   "metadata": {},
   "outputs": [],
   "source": [
    "target = '''\n",
    "abc def xyz\n",
    "ABC DEF XYZ\n",
    "01234 56789\n",
    "3.14159\n",
    "\n",
    "Abc AbcAbc\n",
    "\n",
    ".^$*+-?&#'\"{}[]\\()\n",
    "'''"
   ]
  },
  {
   "cell_type": "code",
   "execution_count": 60,
   "metadata": {},
   "outputs": [
    {
     "data": {
      "text/plain": [
       "['a',\n",
       " 'b',\n",
       " 'c',\n",
       " ' ',\n",
       " 'd',\n",
       " 'e',\n",
       " 'f',\n",
       " ' ',\n",
       " 'x',\n",
       " 'y',\n",
       " 'z',\n",
       " 'A',\n",
       " 'B',\n",
       " 'C',\n",
       " ' ',\n",
       " 'D',\n",
       " 'E',\n",
       " 'F',\n",
       " ' ',\n",
       " 'X',\n",
       " 'Y',\n",
       " 'Z',\n",
       " '0',\n",
       " '1',\n",
       " '2',\n",
       " '3',\n",
       " '4',\n",
       " ' ',\n",
       " '5',\n",
       " '6',\n",
       " '7',\n",
       " '8',\n",
       " '9',\n",
       " '3',\n",
       " '.',\n",
       " '1',\n",
       " '4',\n",
       " '1',\n",
       " '5',\n",
       " '9',\n",
       " 'A',\n",
       " 'b',\n",
       " 'c',\n",
       " ' ',\n",
       " 'A',\n",
       " 'b',\n",
       " 'c',\n",
       " 'A',\n",
       " 'b',\n",
       " 'c',\n",
       " '.',\n",
       " '^',\n",
       " '$',\n",
       " '*',\n",
       " '+',\n",
       " '-',\n",
       " '?',\n",
       " '&',\n",
       " '#',\n",
       " \"'\",\n",
       " '\"',\n",
       " '{',\n",
       " '}',\n",
       " '[',\n",
       " ']',\n",
       " '\\\\',\n",
       " '(',\n",
       " ')']"
      ]
     },
     "execution_count": 60,
     "metadata": {},
     "output_type": "execute_result"
    }
   ],
   "source": [
    "re.findall('.', target)"
   ]
  },
  {
   "cell_type": "code",
   "execution_count": 61,
   "metadata": {},
   "outputs": [
    {
     "data": {
      "text/plain": [
       "['0',\n",
       " '1',\n",
       " '2',\n",
       " '3',\n",
       " '4',\n",
       " '5',\n",
       " '6',\n",
       " '7',\n",
       " '8',\n",
       " '9',\n",
       " '3',\n",
       " '1',\n",
       " '4',\n",
       " '1',\n",
       " '5',\n",
       " '9']"
      ]
     },
     "execution_count": 61,
     "metadata": {},
     "output_type": "execute_result"
    }
   ],
   "source": [
    "re.findall('\\d', target)"
   ]
  },
  {
   "cell_type": "code",
   "execution_count": 62,
   "metadata": {},
   "outputs": [
    {
     "data": {
      "text/plain": [
       "['\\n',\n",
       " 'a',\n",
       " 'b',\n",
       " 'c',\n",
       " ' ',\n",
       " 'd',\n",
       " 'e',\n",
       " 'f',\n",
       " ' ',\n",
       " 'x',\n",
       " 'y',\n",
       " 'z',\n",
       " '\\n',\n",
       " 'A',\n",
       " 'B',\n",
       " 'C',\n",
       " ' ',\n",
       " 'D',\n",
       " 'E',\n",
       " 'F',\n",
       " ' ',\n",
       " 'X',\n",
       " 'Y',\n",
       " 'Z',\n",
       " '\\n',\n",
       " ' ',\n",
       " '\\n',\n",
       " '.',\n",
       " '\\n',\n",
       " '\\n',\n",
       " 'A',\n",
       " 'b',\n",
       " 'c',\n",
       " ' ',\n",
       " 'A',\n",
       " 'b',\n",
       " 'c',\n",
       " 'A',\n",
       " 'b',\n",
       " 'c',\n",
       " '\\n',\n",
       " '\\n',\n",
       " '.',\n",
       " '^',\n",
       " '$',\n",
       " '*',\n",
       " '+',\n",
       " '-',\n",
       " '?',\n",
       " '&',\n",
       " '#',\n",
       " \"'\",\n",
       " '\"',\n",
       " '{',\n",
       " '}',\n",
       " '[',\n",
       " ']',\n",
       " '\\\\',\n",
       " '(',\n",
       " ')',\n",
       " '\\n']"
      ]
     },
     "execution_count": 62,
     "metadata": {},
     "output_type": "execute_result"
    }
   ],
   "source": [
    "re.findall('\\D', target)"
   ]
  },
  {
   "cell_type": "code",
   "execution_count": 63,
   "metadata": {},
   "outputs": [
    {
     "data": {
      "text/plain": [
       "['a',\n",
       " 'b',\n",
       " 'c',\n",
       " 'd',\n",
       " 'e',\n",
       " 'f',\n",
       " 'x',\n",
       " 'y',\n",
       " 'z',\n",
       " 'A',\n",
       " 'B',\n",
       " 'C',\n",
       " 'D',\n",
       " 'E',\n",
       " 'F',\n",
       " 'X',\n",
       " 'Y',\n",
       " 'Z',\n",
       " '0',\n",
       " '1',\n",
       " '2',\n",
       " '3',\n",
       " '4',\n",
       " '5',\n",
       " '6',\n",
       " '7',\n",
       " '8',\n",
       " '9',\n",
       " '3',\n",
       " '1',\n",
       " '4',\n",
       " '1',\n",
       " '5',\n",
       " '9',\n",
       " 'A',\n",
       " 'b',\n",
       " 'c',\n",
       " 'A',\n",
       " 'b',\n",
       " 'c',\n",
       " 'A',\n",
       " 'b',\n",
       " 'c']"
      ]
     },
     "execution_count": 63,
     "metadata": {},
     "output_type": "execute_result"
    }
   ],
   "source": [
    "re.findall('\\w', target)"
   ]
  },
  {
   "cell_type": "code",
   "execution_count": 64,
   "metadata": {},
   "outputs": [
    {
     "data": {
      "text/plain": [
       "['\\n',\n",
       " ' ',\n",
       " ' ',\n",
       " '\\n',\n",
       " ' ',\n",
       " ' ',\n",
       " '\\n',\n",
       " ' ',\n",
       " '\\n',\n",
       " '.',\n",
       " '\\n',\n",
       " '\\n',\n",
       " ' ',\n",
       " '\\n',\n",
       " '\\n',\n",
       " '.',\n",
       " '^',\n",
       " '$',\n",
       " '*',\n",
       " '+',\n",
       " '-',\n",
       " '?',\n",
       " '&',\n",
       " '#',\n",
       " \"'\",\n",
       " '\"',\n",
       " '{',\n",
       " '}',\n",
       " '[',\n",
       " ']',\n",
       " '\\\\',\n",
       " '(',\n",
       " ')',\n",
       " '\\n']"
      ]
     },
     "execution_count": 64,
     "metadata": {},
     "output_type": "execute_result"
    }
   ],
   "source": [
    "re.findall('\\W', target)"
   ]
  },
  {
   "cell_type": "code",
   "execution_count": 65,
   "metadata": {},
   "outputs": [
    {
     "data": {
      "text/plain": [
       "['\\n',\n",
       " ' ',\n",
       " ' ',\n",
       " '\\n',\n",
       " ' ',\n",
       " ' ',\n",
       " '\\n',\n",
       " ' ',\n",
       " '\\n',\n",
       " '\\n',\n",
       " '\\n',\n",
       " ' ',\n",
       " '\\n',\n",
       " '\\n',\n",
       " '\\n']"
      ]
     },
     "execution_count": 65,
     "metadata": {},
     "output_type": "execute_result"
    }
   ],
   "source": [
    "re.findall('\\s', target)"
   ]
  },
  {
   "cell_type": "code",
   "execution_count": 66,
   "metadata": {},
   "outputs": [
    {
     "data": {
      "text/plain": [
       "['a',\n",
       " 'b',\n",
       " 'c',\n",
       " 'd',\n",
       " 'e',\n",
       " 'f',\n",
       " 'x',\n",
       " 'y',\n",
       " 'z',\n",
       " 'A',\n",
       " 'B',\n",
       " 'C',\n",
       " 'D',\n",
       " 'E',\n",
       " 'F',\n",
       " 'X',\n",
       " 'Y',\n",
       " 'Z',\n",
       " '0',\n",
       " '1',\n",
       " '2',\n",
       " '3',\n",
       " '4',\n",
       " '5',\n",
       " '6',\n",
       " '7',\n",
       " '8',\n",
       " '9',\n",
       " '3',\n",
       " '.',\n",
       " '1',\n",
       " '4',\n",
       " '1',\n",
       " '5',\n",
       " '9',\n",
       " 'A',\n",
       " 'b',\n",
       " 'c',\n",
       " 'A',\n",
       " 'b',\n",
       " 'c',\n",
       " 'A',\n",
       " 'b',\n",
       " 'c',\n",
       " '.',\n",
       " '^',\n",
       " '$',\n",
       " '*',\n",
       " '+',\n",
       " '-',\n",
       " '?',\n",
       " '&',\n",
       " '#',\n",
       " \"'\",\n",
       " '\"',\n",
       " '{',\n",
       " '}',\n",
       " '[',\n",
       " ']',\n",
       " '\\\\',\n",
       " '(',\n",
       " ')']"
      ]
     },
     "execution_count": 66,
     "metadata": {},
     "output_type": "execute_result"
    }
   ],
   "source": [
    "re.findall('\\S', target)"
   ]
  },
  {
   "cell_type": "markdown",
   "metadata": {},
   "source": [
    "Bài thứ 1 đến đây tạm dừng (cơn ác mộng chỉ mới bắt đầu :), trong các bài tiếp theo ta sẽ tìm hiểu nhiều quy tắc khác để tạo ra các pattern phức tạp hơn."
   ]
  },
  {
   "cell_type": "code",
   "execution_count": null,
   "metadata": {},
   "outputs": [],
   "source": []
  }
 ],
 "metadata": {
  "hide_input": false,
  "kernelspec": {
   "display_name": "Python 3",
   "language": "python",
   "name": "python3"
  },
  "language_info": {
   "codemirror_mode": {
    "name": "ipython",
    "version": 3
   },
   "file_extension": ".py",
   "mimetype": "text/x-python",
   "name": "python",
   "nbconvert_exporter": "python",
   "pygments_lexer": "ipython3",
   "version": "3.7.4"
  },
  "toc": {
   "base_numbering": 1,
   "nav_menu": {},
   "number_sections": true,
   "sideBar": true,
   "skip_h1_title": false,
   "title_cell": "Table of Contents",
   "title_sidebar": "Contents",
   "toc_cell": false,
   "toc_position": {},
   "toc_section_display": true,
   "toc_window_display": false
  }
 },
 "nbformat": 4,
 "nbformat_minor": 2
}
