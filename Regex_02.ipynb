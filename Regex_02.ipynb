{
 "cells": [
  {
   "cell_type": "markdown",
   "metadata": {},
   "source": [
    "# Regular expression trong Python\n",
    "\n",
    "# Bài 2: Các quy tắc định lượng\n",
    "\n",
    "### BS. Lê Ngọc Khả Nhi\n",
    "\n",
    "Chào các bạn, đây là bài thứ 2 trong loạt bài về Regular Expression với Python. Trong bài trước, các bạn đã làm quen với những hàm tìm kiếm cơ bản của module re, biết cách compile một pattern. Lần trước chúng ta đã làm được literal research với pattern cụ thể, và dừng chân ở những kí tự đại diện như \\\\w, \\\\s, \\\\d... có thể tạo pattern trừu tượng và tổng quát cho con số, chữ và kí tự đặc biệt.\n",
    "\n",
    "Tuy nhiên, như các bạn đã thấy, những kí tự đại diện này chỉ mới cho phép chúng ta tạo ra những kí tự / chữ số đơn lẻ. Trong một số trường hợp điều này có thể có ích, thí dụ: trên 1 chuỗi trạng thái giấc ngủ được kí hiệu # = thức, S = ngủ, ta muốn định vị thời điểm bắt đầu ngủ:"
   ]
  },
  {
   "cell_type": "code",
   "execution_count": 1,
   "metadata": {},
   "outputs": [],
   "source": [
    "import re"
   ]
  },
  {
   "cell_type": "code",
   "execution_count": 79,
   "metadata": {},
   "outputs": [
    {
     "name": "stdout",
     "output_type": "stream",
     "text": [
      "#####SSSSS#S#\n"
     ]
    }
   ],
   "source": [
    "target = '''#####SSSSS#S#'''\n",
    "\n",
    "print(target)"
   ]
  },
  {
   "cell_type": "code",
   "execution_count": 81,
   "metadata": {},
   "outputs": [
    {
     "data": {
      "text/plain": [
       "<re.Match object; span=(5, 6), match='S'>"
      ]
     },
     "execution_count": 81,
     "metadata": {},
     "output_type": "execute_result"
    }
   ],
   "source": [
    "re.search('\\w',target)"
   ]
  },
  {
   "cell_type": "markdown",
   "metadata": {},
   "source": [
    "Tuy nhiên, trong đa số hoàn cảnh chúng ta cần tìm 1 từ, nhóm từ, con số nhiều chữ số chứ không phải là 1 kí tự hay con số đơn lẻ, lúc này ta cần đưa vào pattern một quy tắc định lượng;\n",
    "\n",
    "Trong bài hôm nay chúng ta sẽ học một số cú pháp để tạo ra quy tắc định lượng và kết hợp nó với những kí tự đại diện và/hoặc chuỗi literal để thực hiện những tác vụ tìm kiếm phức tạp và chính xác hơn."
   ]
  },
  {
   "cell_type": "markdown",
   "metadata": {},
   "source": [
    "# Các quy tắc định lượng\n",
    "\n",
    "Có 5 quy tắc định lượng cần nhớ như sau:\n",
    "\n",
    "Khi đặt những kí hiệu này ngay sau một nhóm literal hay kí tự đại diện, ta có thể mở rộng phạm vi tìm kiếm cho tất cả các trường hợp thỏa tiêu chí định lượng được đề ra:"
   ]
  },
  {
   "cell_type": "markdown",
   "metadata": {},
   "source": [
    "{n}: kéo dài (lặp lại) đúng n lần liên tiếp\n",
    "    \n",
    "\\+ : 1 hay nhiều hơn (ít nhất 1 trường hợp)\n",
    "    \n",
    "? : 0 hoặc 1 (bất cứ trường hợp nào)\n",
    "    \n",
    "\\* : 0 hoặc nhiều hơn (tất cả trường hợp)\n",
    "    \n",
    "{n,m}: trong khoảng từ n đến m lần"
   ]
  },
  {
   "cell_type": "markdown",
   "metadata": {},
   "source": [
    "Ta khởi động với vài thí dụ đơn giản:"
   ]
  },
  {
   "cell_type": "code",
   "execution_count": 35,
   "metadata": {},
   "outputs": [
    {
     "data": {
      "text/plain": [
       "['cc', 'cc', 'cc']"
      ]
     },
     "execution_count": 35,
     "metadata": {},
     "output_type": "execute_result"
    }
   ],
   "source": [
    "re.findall(r'c{2}', 'aaccggactgccaccg') \n",
    "\n",
    "# Liệt kê tất cả trường hợp kí tự c xuất hiện đúng 2 lần"
   ]
  },
  {
   "cell_type": "code",
   "execution_count": 37,
   "metadata": {},
   "outputs": [
    {
     "data": {
      "text/plain": [
       "['acc', 'ac', 'acc']"
      ]
     },
     "execution_count": 37,
     "metadata": {},
     "output_type": "execute_result"
    }
   ],
   "source": [
    "re.findall(r'ac+', 'aaccggactgccaccg') \n",
    "\n",
    "# Liệt kê tất cả trường hợp chuỗi kí tự mở đầu bằng a, sau đó là c lặp lại ít nhất 1 lần"
   ]
  },
  {
   "cell_type": "code",
   "execution_count": 32,
   "metadata": {},
   "outputs": [
    {
     "data": {
      "text/plain": [
       "['c', 'cg', 'c', 'c', 'c', 'c', 'cg']"
      ]
     },
     "execution_count": 32,
     "metadata": {},
     "output_type": "execute_result"
    }
   ],
   "source": [
    "re.findall(r'cg?', 'aaccggactgccaccg')\n",
    "\n",
    "# Liệt kê tất cả trường hợp chuỗi kí tự mở đầu bằng c, sau đó có thể là g hoặc không, nhưng không thể là a,t"
   ]
  },
  {
   "cell_type": "code",
   "execution_count": 85,
   "metadata": {},
   "outputs": [
    {
     "data": {
      "text/plain": [
       "['ccgg', 'ccg']"
      ]
     },
     "execution_count": 85,
     "metadata": {},
     "output_type": "execute_result"
    }
   ],
   "source": [
    "re.findall(r'c+g+', 'aaccggactgccaccg')\n",
    "\n",
    "# Liệt kê tất cả trường hợp chuỗi kí tự mở đầu bằng 1 chuỗi c liền kề một chuỗi g"
   ]
  },
  {
   "cell_type": "code",
   "execution_count": 36,
   "metadata": {},
   "outputs": [
    {
     "data": {
      "text/plain": [
       "['gg', 'g', 'g']"
      ]
     },
     "execution_count": 36,
     "metadata": {},
     "output_type": "execute_result"
    }
   ],
   "source": [
    "re.findall(r'g{1,3}', 'aaccggactgccaccg')\n",
    "\n",
    "# Liệt kê tất cả trường hợp g lặp lại từ 1 đến 3 lần"
   ]
  },
  {
   "cell_type": "markdown",
   "metadata": {},
   "source": [
    "# Thực hành"
   ]
  },
  {
   "cell_type": "markdown",
   "metadata": {},
   "source": [
    "Tiếp theo, ta sẽ tìm hiêu về thí dụ minh họa mô phỏng 1 file dữ liệu thô trích xuất từ 1 phần mềm thiết bị y khoa với 2 cảm biến A và B, mỗi cảm biến lại có 3 kênh tín hiệu A1,A2,A3,B1,B2,B3; Ngoài ra data còn lưu trữ cả thông tin bệnh nhân, như tên, ngày sinh, số điện thoại, và thông tin về phần cứng: serian number, phiên bản phần mềm..."
   ]
  },
  {
   "cell_type": "code",
   "execution_count": 83,
   "metadata": {},
   "outputs": [
    {
     "name": "stdout",
     "output_type": "stream",
     "text": [
      "@Patient\n",
      "Name,Sex,DOB,Weight,Height,PhoneNumber\n",
      "Nguyễn Văn A,M,25/04/1972,87.00,171,0921812525,\n",
      "@Device\n",
      "Serial,AppVer\n",
      "MS3001479TZR;1.7.1260\n",
      "@Sensor_A\n",
      "Time,A1,A2,A3\n",
      "1561571170041,0.092407,0.799255,0.593933\n",
      "1561571170041,0.091797,0.798950,0.591187\n",
      "1561571170041,0.078552,-0.031006,1.026550\n",
      "1561571170189,0.079102,-0.031006,1.035645\n",
      "1561571170189,0.079041,-0.030396,1.033752\n",
      "1561571170189,0.078918,-0.030640,1.033752\n",
      "@Sensor_B\n",
      "Time,B1,B2,B3\n",
      "1561571169993,-1.920732,-3.860518,-0.213415\n",
      "1561571169993,-0.758384,-2.907774,1.539634\n",
      "1561571169993,-0.807927,-0.194360,-0.522104\n",
      "1561571170140,-0.636433,-0.201982,-0.590701\n",
      "1561571170140,-0.510671,0.080030,-0.438262\n",
      "1561571170140,-0.487805,0.000000,-0.48399\n"
     ]
    }
   ],
   "source": [
    "target = '''@Patient\n",
    "Name,Sex,DOB,Weight,Height,PhoneNumber\n",
    "Nguyễn Văn A,M,25/04/1972,87.00,171,0921812525,\n",
    "@Device\n",
    "Serial,AppVer\n",
    "MS3001479TZR;1.7.1260\n",
    "@Sensor_A\n",
    "Time,A1,A2,A3\n",
    "1561571170041,0.092407,0.799255,0.593933\n",
    "1561571170041,0.091797,0.798950,0.591187\n",
    "1561571170041,0.078552,-0.031006,1.026550\n",
    "1561571170189,0.079102,-0.031006,1.035645\n",
    "1561571170189,0.079041,-0.030396,1.033752\n",
    "1561571170189,0.078918,-0.030640,1.033752\n",
    "@Sensor_B\n",
    "Time,B1,B2,B3\n",
    "1561571169993,-1.920732,-3.860518,-0.213415\n",
    "1561571169993,-0.758384,-2.907774,1.539634\n",
    "1561571169993,-0.807927,-0.194360,-0.522104\n",
    "1561571170140,-0.636433,-0.201982,-0.590701\n",
    "1561571170140,-0.510671,0.080030,-0.438262\n",
    "1561571170140,-0.487805,0.000000,-0.48399'''\n",
    "\n",
    "print(target)"
   ]
  },
  {
   "cell_type": "markdown",
   "metadata": {},
   "source": [
    "Nhiệm vụ đầu tiên: Liệt kê tên tất cả những bloc dữ liệu, được đánh dấu bằng kí tự @:\n",
    "\n",
    "Ta thấy @ là 1 nội dung cụ thể, nhưng tên bloc có thể thay đổi, ta biết tên chỉ chứa kí tự không có con số, nên kí tự đại diện sẽ là \\\\w, và tên có thể dài ngắn khác nhau, nên quy tắc định lượng sẽ là +"
   ]
  },
  {
   "cell_type": "code",
   "execution_count": 54,
   "metadata": {},
   "outputs": [
    {
     "data": {
      "text/plain": [
       "['@Patient', '@Device', '@Sensor_A', '@Sensor_B']"
      ]
     },
     "execution_count": 54,
     "metadata": {},
     "output_type": "execute_result"
    }
   ],
   "source": [
    "re.findall(r'@\\w+',target)"
   ]
  },
  {
   "cell_type": "markdown",
   "metadata": {},
   "source": [
    "Nhiệm vụ thứ 2: Liệt kê tên tất cả kênh tín hiệu:\n",
    "\n",
    "Ta thấy tên của kênh tín hiệu có cấu trúc mở đầu bằng A hoặc B, sau đó là 1 con số, do đó ta kết hợp 1 set 2 kí tự A,B và kí tự đại diện \\\\d, kèm theo quy tắc định lượng {1}"
   ]
  },
  {
   "cell_type": "code",
   "execution_count": 59,
   "metadata": {},
   "outputs": [
    {
     "data": {
      "text/plain": [
       "['A1', 'A2', 'A3', 'B1', 'B2', 'B3']"
      ]
     },
     "execution_count": 59,
     "metadata": {},
     "output_type": "execute_result"
    }
   ],
   "source": [
    "re.findall(r'[AB]\\d{1}', target)"
   ]
  },
  {
   "cell_type": "markdown",
   "metadata": {},
   "source": [
    "Nhiệm vụ thứ 3: Truy xuất tên bệnh nhân\n",
    "    \n",
    "Ta thấy tên của người Việt Nam có cấu trúc ít nhất là 2 từ, ngăn cách bởi khoảng trắng, do đó để tìm tên 1 người, ta bắt đầu bằng họ với kí tự đại diện là \\w, họ có thể dài ngắn khác nhau nên ta thêm dấu +, sau đó tên đệm và tên có cấu trúc lặp lại gồm 1 khoảng trắng, 1 từ dài ngắn khác nhau, và cấu trúc này có thể lặp lại từ 0 đến n lần (người có tên rất rất dài :) ): cú pháp regex như sau:"
   ]
  },
  {
   "cell_type": "code",
   "execution_count": 114,
   "metadata": {},
   "outputs": [
    {
     "data": {
      "text/plain": [
       "<re.Match object; span=(0, 7), match='Trầm Bê'>"
      ]
     },
     "execution_count": 114,
     "metadata": {},
     "output_type": "execute_result"
    }
   ],
   "source": [
    "re.search(r'\\w+[ \\w+]*', 'Trầm Bê')"
   ]
  },
  {
   "cell_type": "code",
   "execution_count": 111,
   "metadata": {},
   "outputs": [
    {
     "data": {
      "text/plain": [
       "<re.Match object; span=(0, 19), match='Nguyễn thị Tường Vi'>"
      ]
     },
     "execution_count": 111,
     "metadata": {},
     "output_type": "execute_result"
    }
   ],
   "source": [
    "re.search(r'\\w+ [ \\w+]*', 'Nguyễn thị Tường Vi')"
   ]
  },
  {
   "cell_type": "code",
   "execution_count": 112,
   "metadata": {},
   "outputs": [
    {
     "data": {
      "text/plain": [
       "<re.Match object; span=(0, 28), match='Công Tằng Tôn Nữ Minh Phương'>"
      ]
     },
     "execution_count": 112,
     "metadata": {},
     "output_type": "execute_result"
    }
   ],
   "source": [
    "re.search(r'\\w+ [ \\w+]*', 'Công Tằng Tôn Nữ Minh Phương')"
   ]
  },
  {
   "cell_type": "markdown",
   "metadata": {},
   "source": [
    "Áp dụng vào target:"
   ]
  },
  {
   "cell_type": "code",
   "execution_count": 115,
   "metadata": {},
   "outputs": [
    {
     "data": {
      "text/plain": [
       "<re.Match object; span=(48, 60), match='Nguyễn Văn A'>"
      ]
     },
     "execution_count": 115,
     "metadata": {},
     "output_type": "execute_result"
    }
   ],
   "source": [
    "re.search(r'\\w+ [ \\w+]*', target)"
   ]
  },
  {
   "cell_type": "markdown",
   "metadata": {},
   "source": [
    "Nhiệm vụ thứ 4: Tím tất cả từ bắt đầu bằng 2 chữ Se\n",
    "    \n",
    "Đây là việc rất dễ, ta có 1 chuỗi literal (Se) và phần còn lại có thể là bất cứ thứ gì, dài ngắn khác nhau:\n",
    "Cú pháp sẽ là:"
   ]
  },
  {
   "cell_type": "code",
   "execution_count": 10,
   "metadata": {},
   "outputs": [
    {
     "data": {
      "text/plain": [
       "['Sex', 'Serial', 'Sensor_A', 'Sensor_B']"
      ]
     },
     "execution_count": 10,
     "metadata": {},
     "output_type": "execute_result"
    }
   ],
   "source": [
    "re.findall('Se\\w+',target)"
   ]
  },
  {
   "cell_type": "markdown",
   "metadata": {},
   "source": [
    "Nhiệm vụ thứ 5: Trích xuất số điện thoại\n",
    "    \n",
    "Ta biết cấu trúc số điện thoại chỉ có con số, và độ dài cố định, thí dụ 10 con số, cách làm thủ công nếu bạn chưa biết về quy tắc định lượng sẽ là:"
   ]
  },
  {
   "cell_type": "code",
   "execution_count": 4,
   "metadata": {},
   "outputs": [
    {
     "data": {
      "text/plain": [
       "<re.Match object; span=(84, 94), match='0921812525'>"
      ]
     },
     "execution_count": 4,
     "metadata": {},
     "output_type": "execute_result"
    }
   ],
   "source": [
    "re.search('\\d\\d\\d\\d\\d\\d\\d\\d\\d\\d',target)"
   ]
  },
  {
   "cell_type": "markdown",
   "metadata": {},
   "source": [
    "Tuy nhiên khi đã biết cú pháp định lượng, ta chỉ cần viết ngắn gọn như sau:"
   ]
  },
  {
   "cell_type": "code",
   "execution_count": 5,
   "metadata": {},
   "outputs": [
    {
     "data": {
      "text/plain": [
       "<re.Match object; span=(84, 94), match='0921812525'>"
      ]
     },
     "execution_count": 5,
     "metadata": {},
     "output_type": "execute_result"
    }
   ],
   "source": [
    "re.search('\\d{10}',target)"
   ]
  },
  {
   "cell_type": "markdown",
   "metadata": {},
   "source": [
    "Nhiệm vụ thứ 6: Trích xuất ngày tháng năm sinh:\n",
    "        \n",
    "Đây cũng là 1 chuỗi có cấu trúc cố định, bao gồm DD/MM/YYYY, trong đó D,M,Y là những con số;\n",
    "cú pháp regex đơn giản sẽ là:"
   ]
  },
  {
   "cell_type": "code",
   "execution_count": 50,
   "metadata": {},
   "outputs": [
    {
     "data": {
      "text/plain": [
       "['25/04/1972']"
      ]
     },
     "execution_count": 50,
     "metadata": {},
     "output_type": "execute_result"
    }
   ],
   "source": [
    "re.findall(r'\\d*/\\d*/\\d*',target)"
   ]
  },
  {
   "cell_type": "markdown",
   "metadata": {},
   "source": [
    "Nhiệm vụ thứ 7: Trích xuất số Serie của phần cứng:\n",
    "        \n",
    "Ta biết rằng số serie là 1 chuỗi có cấu trúc cố định, luôn mở đầu bằng 2 chữ MS (literal), sau đó là chuỗi số và kí tự có độ dài khác nhau, do đó kí tự đại diện sẽ là \\\\w, thêm dấu +"
   ]
  },
  {
   "cell_type": "code",
   "execution_count": 116,
   "metadata": {},
   "outputs": [
    {
     "data": {
      "text/plain": [
       "<re.Match object; span=(118, 130), match='MS3001479TZR'>"
      ]
     },
     "execution_count": 116,
     "metadata": {},
     "output_type": "execute_result"
    }
   ],
   "source": [
    "re.search('MS\\w+',target)"
   ]
  },
  {
   "cell_type": "markdown",
   "metadata": {},
   "source": [
    "Nhiệm vụ thứ 8: Tìm tất cả những con số thập phân :\n",
    "        \n",
    "Số thập phân là một chuỗi số trong đó có dấu ngăn cách là . (literal)\n",
    "Đầu tiên, ta thử cú pháp như sau:"
   ]
  },
  {
   "cell_type": "code",
   "execution_count": 13,
   "metadata": {},
   "outputs": [
    {
     "data": {
      "text/plain": [
       "['87.00',\n",
       " '1.7',\n",
       " '.1260',\n",
       " '0.092407',\n",
       " '0.799255',\n",
       " '0.593933',\n",
       " '0.091797',\n",
       " '0.798950',\n",
       " '0.591187',\n",
       " '0.078552',\n",
       " '0.031006',\n",
       " '1.026550',\n",
       " '0.079102',\n",
       " '0.031006',\n",
       " '1.035645',\n",
       " '0.079041',\n",
       " '0.030396',\n",
       " '1.033752',\n",
       " '0.078918',\n",
       " '0.030640',\n",
       " '1.033752',\n",
       " '1.920732',\n",
       " '3.860518',\n",
       " '0.213415',\n",
       " '0.758384',\n",
       " '2.907774',\n",
       " '1.539634',\n",
       " '0.807927',\n",
       " '0.194360',\n",
       " '0.522104',\n",
       " '0.636433',\n",
       " '0.201982',\n",
       " '0.590701',\n",
       " '0.510671',\n",
       " '0.080030',\n",
       " '0.438262',\n",
       " '0.487805',\n",
       " '0.000000',\n",
       " '0.48399']"
      ]
     },
     "execution_count": 13,
     "metadata": {},
     "output_type": "execute_result"
    }
   ],
   "source": [
    "re.findall('\\d*[.]\\d*',target)"
   ]
  },
  {
   "cell_type": "markdown",
   "metadata": {},
   "source": [
    "Tuy nhiên, kết quả tìm kiếm đã để lọt giá trị 1.7.1260 không phải là số thập phân mà là số version của application;\n",
    "Ta cần 1 quy tắc chính xác hơn; thí dụ ta biết rằng tín hiệu có nhiều số lẻ (ít nhất là 3, nhiều nhất là 6), và phần số nguyên không thể lớn hơn 4, ta có thể dùng cú pháp như sau:"
   ]
  },
  {
   "cell_type": "code",
   "execution_count": 53,
   "metadata": {},
   "outputs": [
    {
     "data": {
      "text/plain": [
       "['0.092407',\n",
       " '0.799255',\n",
       " '0.593933',\n",
       " '0.091797',\n",
       " '0.798950',\n",
       " '0.591187',\n",
       " '0.078552',\n",
       " '0.031006',\n",
       " '1.026550',\n",
       " '0.079102',\n",
       " '0.031006',\n",
       " '1.035645',\n",
       " '0.079041',\n",
       " '0.030396',\n",
       " '1.033752',\n",
       " '0.078918',\n",
       " '0.030640',\n",
       " '1.033752',\n",
       " '1.920732',\n",
       " '3.860518',\n",
       " '0.213415',\n",
       " '0.758384',\n",
       " '2.907774',\n",
       " '1.539634',\n",
       " '0.807927',\n",
       " '0.194360',\n",
       " '0.522104',\n",
       " '0.636433',\n",
       " '0.201982',\n",
       " '0.590701',\n",
       " '0.510671',\n",
       " '0.080030',\n",
       " '0.438262',\n",
       " '0.487805',\n",
       " '0.000000',\n",
       " '0.48399']"
      ]
     },
     "execution_count": 53,
     "metadata": {},
     "output_type": "execute_result"
    }
   ],
   "source": [
    "re.findall('[0-3][.]\\d{3,6}',target)"
   ]
  },
  {
   "cell_type": "markdown",
   "metadata": {},
   "source": [
    "Còn nếu muốn tìm chính xác Số version thì ta sẽ làm như sau:"
   ]
  },
  {
   "cell_type": "code",
   "execution_count": 120,
   "metadata": {},
   "outputs": [
    {
     "data": {
      "text/plain": [
       "<re.Match object; span=(131, 139), match='1.7.1260'>"
      ]
     },
     "execution_count": 120,
     "metadata": {},
     "output_type": "execute_result"
    }
   ],
   "source": [
    "re.search(r'\\d*[.]\\d*[.]\\d*', target)"
   ]
  },
  {
   "cell_type": "markdown",
   "metadata": {},
   "source": [
    "Bài thực hành đến đây tạm dừng, các bạn đã thấy sức mạnh của regular expression trong công việc tìm kiếm một cách chính xác và tổng quát chỉ với vài kí tự đại diện cơ bản. \n",
    "Ngay cả khi chỉ dừng lại ở đây, các bạn đã có thể bắt đầu vận dụng regular expression trong nhiều công việc thực tiễn.\n",
    "\n",
    "Tuy nhiên hành trình của chúng ta vẫn còn dài, ta sẽ khám phá những tính năng khác của regular expression trong các bài tiếp theo."
   ]
  },
  {
   "cell_type": "code",
   "execution_count": null,
   "metadata": {},
   "outputs": [],
   "source": []
  }
 ],
 "metadata": {
  "hide_input": false,
  "kernelspec": {
   "display_name": "Python 3",
   "language": "python",
   "name": "python3"
  },
  "language_info": {
   "codemirror_mode": {
    "name": "ipython",
    "version": 3
   },
   "file_extension": ".py",
   "mimetype": "text/x-python",
   "name": "python",
   "nbconvert_exporter": "python",
   "pygments_lexer": "ipython3",
   "version": "3.7.4"
  },
  "toc": {
   "base_numbering": 1,
   "nav_menu": {},
   "number_sections": true,
   "sideBar": true,
   "skip_h1_title": false,
   "title_cell": "Table of Contents",
   "title_sidebar": "Contents",
   "toc_cell": false,
   "toc_position": {},
   "toc_section_display": true,
   "toc_window_display": false
  }
 },
 "nbformat": 4,
 "nbformat_minor": 2
}
