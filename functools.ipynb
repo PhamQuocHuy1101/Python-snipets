{
 "cells": [
  {
   "cell_type": "markdown",
   "metadata": {},
   "source": [
    "# Giới thiệu functools \n",
    "\n",
    "### BS. Lê Ngọc Khả Nhi\n",
    "\n",
    "functools là một module cấu trúc trong Python, nó cung cấp một số công cụ, nhằm mục tiêu hỗ trợ người dùng trong công việc lập trình hàm. Trong bài thực hành này, Nhi sẽ giới thiệu với các bạn về tính năng của các công cụ này."
   ]
  },
  {
   "cell_type": "code",
   "execution_count": 1,
   "metadata": {},
   "outputs": [],
   "source": [
    "from functools import *"
   ]
  },
  {
   "cell_type": "markdown",
   "metadata": {},
   "source": [
    "# Hàm reduce\n",
    "\n",
    "Hàm reduce cho phép áp dụng một quy trình mang tính chất tuần tự, nối tiếp trên một đối tượng iterable (chuỗi dữ liệu).\n",
    "\n",
    "Thí dụ: ta muốn tính tổng của một dãy số [1,2,3,4,5], tức là thực hiện:\n",
    "\n",
    "(((1+2)+3)+4)+5)\n",
    "\n",
    "Nếu dùng hàm reduce và 1 hàm lambda, ta có thể viết code như sau:"
   ]
  },
  {
   "cell_type": "code",
   "execution_count": 20,
   "metadata": {},
   "outputs": [
    {
     "name": "stdout",
     "output_type": "stream",
     "text": [
      "[1, 2, 3, 4, 5]\n"
     ]
    },
    {
     "data": {
      "text/plain": [
       "15"
      ]
     },
     "execution_count": 20,
     "metadata": {},
     "output_type": "execute_result"
    }
   ],
   "source": [
    "seq = [1,2,3,4,5]\n",
    "\n",
    "print(seq)\n",
    "\n",
    "reduce(lambda a,b: a+b, seq)"
   ]
  },
  {
   "cell_type": "markdown",
   "metadata": {},
   "source": [
    "Ta có thể làm tương tự để tính tích của các số trong dãy số: "
   ]
  },
  {
   "cell_type": "code",
   "execution_count": 21,
   "metadata": {},
   "outputs": [
    {
     "data": {
      "text/plain": [
       "120"
      ]
     },
     "execution_count": 21,
     "metadata": {},
     "output_type": "execute_result"
    }
   ],
   "source": [
    "reduce(lambda a,b: a*b, seq)"
   ]
  },
  {
   "cell_type": "markdown",
   "metadata": {},
   "source": [
    "Hàm reduce có thể dùng để tìm giá trị lớn nhất, nhỏ nhất trong dãy số:"
   ]
  },
  {
   "cell_type": "code",
   "execution_count": 22,
   "metadata": {},
   "outputs": [
    {
     "data": {
      "text/plain": [
       "5"
      ]
     },
     "execution_count": 22,
     "metadata": {},
     "output_type": "execute_result"
    }
   ],
   "source": [
    "reduce(lambda a,b: max(a,b), seq)"
   ]
  },
  {
   "cell_type": "code",
   "execution_count": 23,
   "metadata": {},
   "outputs": [
    {
     "data": {
      "text/plain": [
       "1"
      ]
     },
     "execution_count": 23,
     "metadata": {},
     "output_type": "execute_result"
    }
   ],
   "source": [
    "reduce(lambda a,b: min(a,b), seq)"
   ]
  },
  {
   "cell_type": "markdown",
   "metadata": {},
   "source": [
    "# total_ordering\n",
    "\n",
    "total_ordering là 1 decorator mà functools cung cấp, nó cho phép tự động thêm những dunder (magic) method có tính năng so sánh trong một class.\n",
    "\n",
    "Để minh họa, chúng ta làm thí dụ sau:\n",
    "\n",
    "Giả sử ta có 1 class Model() có nội dung fit một mô hình GLM từ design matrix x và biến kết quả y, family tùy chọn. Sau khi fit mô hình, giá trị AIC được lưu lại như 1 thuộc tính của class. Sau đó, ta dùng dunder method \\__lt\\__ để cho phép so sánh AIC giữa 2 phiên bản mô hình (2 instances tạo ra từ 1 class Model)"
   ]
  },
  {
   "cell_type": "code",
   "execution_count": 77,
   "metadata": {},
   "outputs": [],
   "source": [
    "class Model():\n",
    "    def __init__(self, x,y,family):\n",
    "        self.mod = sm.GLM(y,x,family=family).fit()\n",
    "        self.aic = self.mod.aic\n",
    "    \n",
    "    def __lt__(self, other):\n",
    "        return self.aic < other.aic"
   ]
  },
  {
   "cell_type": "code",
   "execution_count": 24,
   "metadata": {},
   "outputs": [],
   "source": [
    "import statsmodels.api as sm"
   ]
  },
  {
   "cell_type": "code",
   "execution_count": 68,
   "metadata": {},
   "outputs": [],
   "source": [
    "data = sm.datasets.scotland.load(as_pandas=False)\n",
    "\n",
    "data.exog = sm.add_constant(data.exog)"
   ]
  },
  {
   "cell_type": "code",
   "execution_count": 78,
   "metadata": {},
   "outputs": [],
   "source": [
    "mod_1 = Model(x=data.exog, y = data.endog, family = sm.families.Gaussian())"
   ]
  },
  {
   "cell_type": "code",
   "execution_count": 42,
   "metadata": {},
   "outputs": [
    {
     "data": {
      "text/plain": [
       "179.68846616424918"
      ]
     },
     "execution_count": 42,
     "metadata": {},
     "output_type": "execute_result"
    }
   ],
   "source": [
    "mod_1.aic"
   ]
  },
  {
   "cell_type": "code",
   "execution_count": 79,
   "metadata": {},
   "outputs": [
    {
     "name": "stderr",
     "output_type": "stream",
     "text": [
      "C:\\ProgramData\\Anaconda3\\lib\\site-packages\\statsmodels\\genmod\\generalized_linear_model.py:278: DomainWarning: The inverse_power link function does not respect the domain of the Gamma family.\n",
      "  DomainWarning)\n"
     ]
    }
   ],
   "source": [
    "mod_2 = Model(x=data.exog, y = data.endog, family = sm.families.Gamma())"
   ]
  },
  {
   "cell_type": "code",
   "execution_count": 80,
   "metadata": {},
   "outputs": [
    {
     "data": {
      "text/plain": [
       "182.03440432214347"
      ]
     },
     "execution_count": 80,
     "metadata": {},
     "output_type": "execute_result"
    }
   ],
   "source": [
    "mod_2.aic"
   ]
  },
  {
   "cell_type": "markdown",
   "metadata": {},
   "source": [
    "Trong thí dụ này, ta so sánh AIC giữa 2 mô hình Gaussian (mod_1) và Gamma (mod_2): dunder method \\__lt\\__ cho phép dùng toán tử so sánh < giữa 2 object models"
   ]
  },
  {
   "cell_type": "code",
   "execution_count": 81,
   "metadata": {},
   "outputs": [
    {
     "data": {
      "text/plain": [
       "True"
      ]
     },
     "execution_count": 81,
     "metadata": {},
     "output_type": "execute_result"
    }
   ],
   "source": [
    "mod_1 < mod_2"
   ]
  },
  {
   "cell_type": "markdown",
   "metadata": {},
   "source": [
    "Tuy nhiên, khi ta dùng toán tử >= hay <=, chương trình sẽ báo lỗi, vì những method này chưa hiện diện trong class"
   ]
  },
  {
   "cell_type": "code",
   "execution_count": 84,
   "metadata": {},
   "outputs": [
    {
     "ename": "TypeError",
     "evalue": "'<=' not supported between instances of 'Model' and 'Model'",
     "output_type": "error",
     "traceback": [
      "\u001b[1;31m---------------------------------------------------------------------------\u001b[0m",
      "\u001b[1;31mTypeError\u001b[0m                                 Traceback (most recent call last)",
      "\u001b[1;32m<ipython-input-84-f473df3ede0e>\u001b[0m in \u001b[0;36m<module>\u001b[1;34m\u001b[0m\n\u001b[1;32m----> 1\u001b[1;33m \u001b[0mmod_1\u001b[0m \u001b[1;33m<=\u001b[0m \u001b[0mmod_2\u001b[0m\u001b[1;33m\u001b[0m\u001b[1;33m\u001b[0m\u001b[0m\n\u001b[0m",
      "\u001b[1;31mTypeError\u001b[0m: '<=' not supported between instances of 'Model' and 'Model'"
     ]
    }
   ],
   "source": [
    "mod_1 <= mod_2"
   ]
  },
  {
   "cell_type": "markdown",
   "metadata": {},
   "source": [
    "Bây giờ, bạn thử đặt decorator @total_ordering trước đoạn code tạo class Model"
   ]
  },
  {
   "cell_type": "code",
   "execution_count": 86,
   "metadata": {},
   "outputs": [],
   "source": [
    "@total_ordering\n",
    "class Model():\n",
    "    def __init__(self, x,y,family):\n",
    "        self.mod = sm.GLM(y,x,family=family).fit()\n",
    "        self.aic = self.mod.aic\n",
    "    \n",
    "    def __lt__(self, other):\n",
    "        return self.aic < other.aic"
   ]
  },
  {
   "cell_type": "code",
   "execution_count": 87,
   "metadata": {},
   "outputs": [
    {
     "name": "stderr",
     "output_type": "stream",
     "text": [
      "C:\\ProgramData\\Anaconda3\\lib\\site-packages\\statsmodels\\genmod\\generalized_linear_model.py:278: DomainWarning: The inverse_power link function does not respect the domain of the Gamma family.\n",
      "  DomainWarning)\n"
     ]
    }
   ],
   "source": [
    "mod_1 = Model(x=data.exog, y = data.endog, family = sm.families.Gaussian())\n",
    "mod_2 = Model(x=data.exog, y = data.endog, family = sm.families.Gamma())"
   ]
  },
  {
   "cell_type": "markdown",
   "metadata": {},
   "source": [
    "Điều kì diệu xảy ra: Bạn chỉ cần dùng 1 dunder method \\__lt\\__ hay  '\\__gt\\_' , nhưng @total_ordering tự động thêm vào tính năng so sánh với tất cả toán tử còn lại, bạn có thể thoải mái dùng >= hay <="
   ]
  },
  {
   "cell_type": "code",
   "execution_count": 98,
   "metadata": {},
   "outputs": [
    {
     "name": "stdout",
     "output_type": "stream",
     "text": [
      "\n",
      "mod_1 < mod_2:\n",
      "Kết quả so sánh mod_1 < mod_2: Đúng\n",
      "\n",
      "mod_1 <= mod_2:\n",
      "Kết quả so sánh mod_1 <= mod_2: Đúng\n",
      "\n",
      "mod_1 == mod_2:\n",
      "Kết quả so sánh mod_1 == mod_2: Sai\n",
      "\n",
      "mod_1 >= mod_2:\n",
      "Kết quả so sánh mod_1 >= mod_2: Sai\n",
      "\n",
      "mod_1 > mod_2:\n",
      "Kết quả so sánh mod_1 > mod_2: Sai\n"
     ]
    }
   ],
   "source": [
    "for expr in ['mod_1 < mod_2', \n",
    "             'mod_1 <= mod_2', \n",
    "             'mod_1 == mod_2',\n",
    "             'mod_1 >= mod_2', \n",
    "             'mod_1 > mod_2']:\n",
    "    \n",
    "    print(f'\\n{expr:<6}:')\n",
    "    result = eval(expr)\n",
    "    out = 'Đúng' if result else 'Sai'\n",
    "    print(f'Kết quả so sánh {expr}: {out}')"
   ]
  },
  {
   "cell_type": "markdown",
   "metadata": {},
   "source": [
    "# lru_cache\n",
    "\n",
    "lru_cache là một decorator sử dụng cho các hàm đệ quy (recursive function), nó cho phép ghi nhớ giá trị của những lần sử dụng gần nhất của hàm đó.\n",
    "\n",
    "Để minh họa cho ý tưởng này, Nhi viết 1 hàm đệ quy để tính FiO2 (phân suất O2 hít vào phổi) trên bệnh nhân hít oxy 100% bằng catheter qua mũi, tùy theo lưu lượng cung cấp từ bình Oxy:\n",
    "\n",
    "Công thức tính như sau:\n",
    "\n",
    "Khi không dùng Oxy liệu pháp, (lưu lượng  = 0), FiO2 trong khí quyển = 21%\n",
    "\n",
    "Cho 3 lít đầu tiên: FiO2 = 21% + 4%*Flow\n",
    "\n",
    "Sau đó, kể từ 4L trở lên: FiO2 = 21% + 3*4% + 3%*flow\n",
    "\n",
    "Công thức này có thể thực hiện qua 1 hàm đệ quy:"
   ]
  },
  {
   "cell_type": "code",
   "execution_count": 209,
   "metadata": {},
   "outputs": [],
   "source": [
    "def fio2(flow):\n",
    "    if flow <= 3:\n",
    "        print(f'tính FiO2 cho lưu lượng = {flow} L')\n",
    "        return flow*4 + 21\n",
    "    print(f'tính FiO2 cho lưu lượng = {flow} L')\n",
    "    return(fio2(flow - 1) + 3)"
   ]
  },
  {
   "cell_type": "markdown",
   "metadata": {},
   "source": [
    "Lưu ý: mỗi lần hàm này được gọi, nó đều in 1 dòng thông báo: thí dụ cho flow = 6, hàm được gọi 4 lần:"
   ]
  },
  {
   "cell_type": "code",
   "execution_count": 210,
   "metadata": {},
   "outputs": [
    {
     "name": "stdout",
     "output_type": "stream",
     "text": [
      "tính FiO2 cho lưu lượng = 6 L\n",
      "tính FiO2 cho lưu lượng = 5 L\n",
      "tính FiO2 cho lưu lượng = 4 L\n",
      "tính FiO2 cho lưu lượng = 3 L\n"
     ]
    },
    {
     "data": {
      "text/plain": [
       "42"
      ]
     },
     "execution_count": 210,
     "metadata": {},
     "output_type": "execute_result"
    }
   ],
   "source": [
    "fio2(6)"
   ]
  },
  {
   "cell_type": "markdown",
   "metadata": {},
   "source": [
    "Nếu bạn đặt decorator @lru_cache khi tạo hàm đệ quy: tính năng ghi nhớ kết quả được tích hợp;"
   ]
  },
  {
   "cell_type": "code",
   "execution_count": 219,
   "metadata": {},
   "outputs": [],
   "source": [
    "@lru_cache(maxsize = None)\n",
    "def fio2(flow):\n",
    "    if flow <= 3:\n",
    "        print(f'tính FiO2 cho lưu lượng = {flow} L')\n",
    "        return flow*4 + 21\n",
    "    print(f'tính FiO2 cho lưu lượng = {flow} L')\n",
    "    return(fio2(flow - 1) + 3)"
   ]
  },
  {
   "cell_type": "markdown",
   "metadata": {},
   "source": [
    "Bạn thi hành hàm này cho giá trị flow = 10"
   ]
  },
  {
   "cell_type": "code",
   "execution_count": 220,
   "metadata": {},
   "outputs": [
    {
     "name": "stdout",
     "output_type": "stream",
     "text": [
      "tính FiO2 cho lưu lượng = 10 L\n",
      "tính FiO2 cho lưu lượng = 9 L\n",
      "tính FiO2 cho lưu lượng = 8 L\n",
      "tính FiO2 cho lưu lượng = 7 L\n",
      "tính FiO2 cho lưu lượng = 6 L\n",
      "tính FiO2 cho lưu lượng = 5 L\n",
      "tính FiO2 cho lưu lượng = 4 L\n",
      "tính FiO2 cho lưu lượng = 3 L\n"
     ]
    },
    {
     "data": {
      "text/plain": [
       "54"
      ]
     },
     "execution_count": 220,
     "metadata": {},
     "output_type": "execute_result"
    }
   ],
   "source": [
    "fio2(10)"
   ]
  },
  {
   "cell_type": "markdown",
   "metadata": {},
   "source": [
    "Sau đó, bạn thử chạy hàm này cho 7 giá trị khác nhau từ 3-10:"
   ]
  },
  {
   "cell_type": "code",
   "execution_count": 222,
   "metadata": {},
   "outputs": [
    {
     "data": {
      "text/plain": [
       "[33, 36, 39, 42, 45, 48, 51]"
      ]
     },
     "execution_count": 222,
     "metadata": {},
     "output_type": "execute_result"
    }
   ],
   "source": [
    "[fio2(i) for i in range(3,10)]"
   ]
  },
  {
   "cell_type": "markdown",
   "metadata": {},
   "source": [
    "Ta thấy không có dòng thông báo nào được in ra cả, vì thực chất hàm không hề chạy cho mỗi giá trị flow từ 3-10, nhưng chỉ sử dụng lại các kết quả ghi lại từ trước, vì trước đó nó đã được gọi 7 lần cho các giá trị này; kết quả những lần đó đã được ghi lại, và tái sử dụng mà không cần gọi hàm lại từ đầu."
   ]
  },
  {
   "cell_type": "markdown",
   "metadata": {},
   "source": [
    "# Hàm partial\n",
    "\n",
    "Hàm partial cho phép tạo ra các phiên bản khác nhau từ 1 hàm nguyên thủy bằng cách thay đổi 1 bộ phận các arguments của hàm này:\n",
    "\n",
    "Thí dụ, từ hàm distplot của seaborn, ta có thể tạo ra 2 hàm hist_plot và kde_plot thông qua hàm partial của functools:"
   ]
  },
  {
   "cell_type": "code",
   "execution_count": 130,
   "metadata": {},
   "outputs": [],
   "source": [
    "import seaborn as sns"
   ]
  },
  {
   "cell_type": "code",
   "execution_count": 135,
   "metadata": {},
   "outputs": [
    {
     "data": {
      "text/plain": [
       "<matplotlib.axes._subplots.AxesSubplot at 0x27a7d2f6a08>"
      ]
     },
     "execution_count": 135,
     "metadata": {},
     "output_type": "execute_result"
    },
    {
     "data": {
      "image/png": "[encoded data removed]",
      "text/plain": [
       "<Figure size 432x288 with 1 Axes>"
      ]
     },
     "metadata": {
      "needs_background": "light"
     },
     "output_type": "display_data"
    }
   ],
   "source": [
    "sns.distplot(np.random.normal(size=100), kde = True)"
   ]
  },
  {
   "cell_type": "code",
   "execution_count": 156,
   "metadata": {},
   "outputs": [],
   "source": [
    "hist_plot = partial(sns.distplot, kde = False)\n",
    "kde_plot = partial(sns.distplot, hist = False, rug = True)"
   ]
  },
  {
   "cell_type": "code",
   "execution_count": 157,
   "metadata": {},
   "outputs": [
    {
     "data": {
      "text/plain": [
       "<matplotlib.axes._subplots.AxesSubplot at 0x27a7e8bf288>"
      ]
     },
     "execution_count": 157,
     "metadata": {},
     "output_type": "execute_result"
    },
    {
     "data": {
      "image/png": "[encoded data removed]",
      "text/plain": [
       "<Figure size 432x288 with 1 Axes>"
      ]
     },
     "metadata": {
      "needs_background": "light"
     },
     "output_type": "display_data"
    }
   ],
   "source": [
    "hist_plot(np.random.normal(size=100))"
   ]
  },
  {
   "cell_type": "code",
   "execution_count": 158,
   "metadata": {},
   "outputs": [
    {
     "data": {
      "text/plain": [
       "<matplotlib.axes._subplots.AxesSubplot at 0x27a7d711d48>"
      ]
     },
     "execution_count": 158,
     "metadata": {},
     "output_type": "execute_result"
    },
    {
     "data": {
      "image/png": "[encoded data removed]",
      "text/plain": [
       "<Figure size 432x288 with 1 Axes>"
      ]
     },
     "metadata": {
      "needs_background": "light"
     },
     "output_type": "display_data"
    }
   ],
   "source": [
    "kde_plot(np.random.normal(size=100))"
   ]
  },
  {
   "cell_type": "markdown",
   "metadata": {},
   "source": [
    "# wraps\n",
    "\n",
    "wraps là một decorator trong functools, nó cho phép lưu lại tên và doc_string cho hàm mục tiêu khi đóng gói hàm mục tiêu này qua 1 decorator khác,\n",
    "\n",
    "Thí dụ: nếu không dùng wraps, khi ta đóng gói hàm single_glm bằng decorator my_logger, tên và docstring của hàm single_glm không được sử dụng"
   ]
  },
  {
   "cell_type": "code",
   "execution_count": 178,
   "metadata": {},
   "outputs": [],
   "source": [
    "def my_logger(func):\n",
    "    def wrapper(*args, **kwargs):\n",
    "        print(f'Đóng gói {func.__name__}')\n",
    "        return func(*args, **kwargs)\n",
    "    return wrapper"
   ]
  },
  {
   "cell_type": "code",
   "execution_count": 179,
   "metadata": {},
   "outputs": [],
   "source": [
    "@my_logger\n",
    "def simple_glm(x,y, family):\n",
    "    '''Hàm fit mô hình GLM'''\n",
    "    return sm.GLM(y,x,family=family).fit()"
   ]
  },
  {
   "cell_type": "code",
   "execution_count": 180,
   "metadata": {},
   "outputs": [
    {
     "name": "stdout",
     "output_type": "stream",
     "text": [
      "Đóng gói simple_glm\n"
     ]
    }
   ],
   "source": [
    "mod_1 = simple_glm(x=data.exog, y = data.endog, family = sm.families.Gaussian())"
   ]
  },
  {
   "cell_type": "markdown",
   "metadata": {},
   "source": [
    "Tên của hàm single_glm được cho là 'wrapper'"
   ]
  },
  {
   "cell_type": "code",
   "execution_count": 181,
   "metadata": {},
   "outputs": [
    {
     "data": {
      "text/plain": [
       "'wrapper'"
      ]
     },
     "execution_count": 181,
     "metadata": {},
     "output_type": "execute_result"
    }
   ],
   "source": [
    "simple_glm.__name__"
   ]
  },
  {
   "cell_type": "markdown",
   "metadata": {},
   "source": [
    "docstring của hàm single_glm bị xóa sạch"
   ]
  },
  {
   "cell_type": "code",
   "execution_count": 182,
   "metadata": {},
   "outputs": [],
   "source": [
    "simple_glm.__doc__"
   ]
  },
  {
   "cell_type": "markdown",
   "metadata": {},
   "source": [
    "Khi có dùng wraps ngay trước hàm đóng gói wrapper của decorator my_logger, ta sẽ thấy hàm mục tiêu được lưu giữ trọn vẹn thông tin gồm tên của nó và docstring:"
   ]
  },
  {
   "cell_type": "code",
   "execution_count": 169,
   "metadata": {},
   "outputs": [],
   "source": [
    "def my_logger(func):\n",
    "    \n",
    "    @wraps(func)\n",
    "    def wrapper(*args, **kwargs):\n",
    "        print(f'Đóng gói {func.__name__}')\n",
    "        return func(*args, **kwargs)\n",
    "    return wrapper"
   ]
  },
  {
   "cell_type": "code",
   "execution_count": 174,
   "metadata": {},
   "outputs": [],
   "source": [
    "@my_logger\n",
    "def simple_glm(x,y, family):\n",
    "    '''Hàm fit mô hình GLM'''\n",
    "    return sm.GLM(y,x,family=family).fit()"
   ]
  },
  {
   "cell_type": "code",
   "execution_count": 175,
   "metadata": {},
   "outputs": [
    {
     "name": "stdout",
     "output_type": "stream",
     "text": [
      "Đóng gói simple_glm\n"
     ]
    }
   ],
   "source": [
    "mod_1 = simple_glm(x=data.exog, y = data.endog, family = sm.families.Gaussian())"
   ]
  },
  {
   "cell_type": "markdown",
   "metadata": {},
   "source": [
    "Tên của hàm đúng là simple_glm"
   ]
  },
  {
   "cell_type": "code",
   "execution_count": 176,
   "metadata": {},
   "outputs": [
    {
     "data": {
      "text/plain": [
       "'simple_glm'"
      ]
     },
     "execution_count": 176,
     "metadata": {},
     "output_type": "execute_result"
    }
   ],
   "source": [
    "simple_glm.__name__"
   ]
  },
  {
   "cell_type": "markdown",
   "metadata": {},
   "source": [
    "Docstring được bảo tồn"
   ]
  },
  {
   "cell_type": "code",
   "execution_count": 177,
   "metadata": {},
   "outputs": [
    {
     "data": {
      "text/plain": [
       "'Hàm fit mô hình GLM'"
      ]
     },
     "execution_count": 177,
     "metadata": {},
     "output_type": "execute_result"
    }
   ],
   "source": [
    "simple_glm.__doc__"
   ]
  },
  {
   "cell_type": "markdown",
   "metadata": {},
   "source": [
    "# singledispatch\n",
    "\n",
    "singledispatch là 1 decorator cho phép tạo ra những phiên bản khác nhau từ 1 hàm cơ bản, mỗi phiên bản áp dụng cho 1 data type chuyên biệt; nhưng dùng chung 1 tên hàm\n",
    "\n",
    "Thí dụ, từ 1 hàm rỗng có tên là cal_mean, ta có thể tạo ra 3 phiên bản khác nhau để tính trung bình (mean) cho 1 list, 1 numpy array hay 1 pandas Series. Kết quả sau cùng là ta có 1 hàm cal_mean có khả năng tương thích với 3 data types, và với type nào nó cũng làm cùng 1 chức năng là tính trung bình.\n",
    "\n",
    "Việc sử dụng singledispatch thay thế cho chuỗi điều kiện if elif, else... phức tạp nếu bạn muốn kiểm tra datatype, code của bạn sẽ đon giản, dễ hiểu và dễ debug hơn."
   ]
  },
  {
   "cell_type": "code",
   "execution_count": 194,
   "metadata": {},
   "outputs": [],
   "source": [
    "@singledispatch\n",
    "def cal_mean(obj):\n",
    "    pass\n",
    "\n",
    "@cal_mean.register(list)\n",
    "def _(obj):\n",
    "    return reduce(lambda a,b: a+b, obj)/len(obj)\n",
    "\n",
    "@cal_mean.register(pd.core.series.Series)\n",
    "def _(obj):\n",
    "    return obj.mean()\n",
    "\n",
    "@cal_mean.register(np.ndarray)\n",
    "def _(obj):\n",
    "    return obj.mean()"
   ]
  },
  {
   "cell_type": "code",
   "execution_count": 184,
   "metadata": {},
   "outputs": [],
   "source": [
    "import pandas as pd\n",
    "import numpy as np\n",
    "\n",
    "lst = [1,3,0,2,8,5,9,7]\n",
    "arr = np.asarray(lst)\n",
    "pds = pd.Series(lst)"
   ]
  },
  {
   "cell_type": "code",
   "execution_count": 195,
   "metadata": {},
   "outputs": [
    {
     "data": {
      "text/plain": [
       "4.375"
      ]
     },
     "execution_count": 195,
     "metadata": {},
     "output_type": "execute_result"
    }
   ],
   "source": [
    "cal_mean(lst)"
   ]
  },
  {
   "cell_type": "code",
   "execution_count": 196,
   "metadata": {},
   "outputs": [
    {
     "data": {
      "text/plain": [
       "4.375"
      ]
     },
     "execution_count": 196,
     "metadata": {},
     "output_type": "execute_result"
    }
   ],
   "source": [
    "cal_mean(arr)"
   ]
  },
  {
   "cell_type": "code",
   "execution_count": 197,
   "metadata": {},
   "outputs": [
    {
     "data": {
      "text/plain": [
       "4.375"
      ]
     },
     "execution_count": 197,
     "metadata": {},
     "output_type": "execute_result"
    }
   ],
   "source": [
    "cal_mean(pds)"
   ]
  },
  {
   "cell_type": "markdown",
   "metadata": {},
   "source": [
    "Chúc các bạn thực hành lập trình hàm thật vui và thành công với functools. Hẹn gặp lại lần sau nhé:)"
   ]
  },
  {
   "cell_type": "code",
   "execution_count": null,
   "metadata": {},
   "outputs": [],
   "source": []
  }
 ],
 "metadata": {
  "hide_input": false,
  "kernelspec": {
   "display_name": "Python 3",
   "language": "python",
   "name": "python3"
  },
  "language_info": {
   "codemirror_mode": {
    "name": "ipython",
    "version": 3
   },
   "file_extension": ".py",
   "mimetype": "text/x-python",
   "name": "python",
   "nbconvert_exporter": "python",
   "pygments_lexer": "ipython3",
   "version": "3.7.6"
  },
  "toc": {
   "base_numbering": 1,
   "nav_menu": {},
   "number_sections": true,
   "sideBar": true,
   "skip_h1_title": false,
   "title_cell": "Table of Contents",
   "title_sidebar": "Contents",
   "toc_cell": false,
   "toc_position": {},
   "toc_section_display": true,
   "toc_window_display": false
  }
 },
 "nbformat": 4,
 "nbformat_minor": 4
}
