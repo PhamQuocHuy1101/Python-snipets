{
 "cells": [
  {
   "cell_type": "markdown",
   "metadata": {
    "run_control": {
     "marked": false
    }
   },
   "source": [
    "# Lập trình Python: Giới thiệu về Decorator \n",
    "\n",
    "### BS. Lê Ngọc Khả Nhi\n",
    "\n",
    "## Function là 1 first-class object\n",
    "\n",
    "Trong bài này, Nhi sẽ giới thiệu với các bạn về Decorator, tính năng cho phép thay đổi cấu trúc hàm trong Python. \n",
    "\n",
    "Trước khi nói về Decorator, ta nhắc lại vài khái niệm cơ bản về hàm (function). Một cách đơn giản, hàm là một cấu trúc hoạt động theo cơ chế: tiếp nhận tham số đầu vào, thực thi một số công việc và xuất kết quả ở đầu ra, thí dụ hàm tính BMI nhận giá trị Height, Weight như arguments, tính và xuát kết quả BMI:"
   ]
  },
  {
   "cell_type": "code",
   "execution_count": 2,
   "metadata": {},
   "outputs": [],
   "source": [
    "def BMI(h,w):\n",
    "    bmi = w/(0.01*h)**2\n",
    "    return bmi"
   ]
  },
  {
   "cell_type": "code",
   "execution_count": 3,
   "metadata": {},
   "outputs": [
    {
     "data": {
      "text/plain": [
       "18.042701059173375"
      ]
     },
     "execution_count": 3,
     "metadata": {},
     "output_type": "execute_result"
    }
   ],
   "source": [
    "BMI(173, 54)"
   ]
  },
  {
   "cell_type": "markdown",
   "metadata": {},
   "source": [
    "Trong Python, mọi thứ đều là object, nhưng hàm đặc biệt hơn vì nó là 1 \"object hạng nhất\", nó được phép đi vào mọi nơi trong chương trình, thí dụ ta có thể dùng hàm này như argument của hàm khác, một hàm lớn có thể chứa các hàm nhỏ hơn bên trong, và xuất kết quả là một hàm khác nữa.\n",
    "\n",
    "Trong thí dụ sau, hàm BMI iter chứa 1 hàm BMI nhỏ hơn bên trong và sử dụng hàm này để tính BMI rồi so sánh với ngưỡng 30 và xuất kết quả:"
   ]
  },
  {
   "cell_type": "code",
   "execution_count": 28,
   "metadata": {},
   "outputs": [],
   "source": [
    "def BMI_inter(h,w):\n",
    "    def BMI(h,w):\n",
    "        bmi = w/(0.01*h)**2\n",
    "        return bmi\n",
    "    out = BMI(h,w)\n",
    "    return f'BMI = {out:.2f}: Thuộc loại béo phì' if out > 30.0 else f'BMI = {out: .3f}'"
   ]
  },
  {
   "cell_type": "code",
   "execution_count": 29,
   "metadata": {},
   "outputs": [
    {
     "data": {
      "text/plain": [
       "'BMI =  24.977'"
      ]
     },
     "execution_count": 29,
     "metadata": {},
     "output_type": "execute_result"
    }
   ],
   "source": [
    "BMI_inter(h=165, w=68)"
   ]
  },
  {
   "cell_type": "code",
   "execution_count": 30,
   "metadata": {},
   "outputs": [
    {
     "data": {
      "text/plain": [
       "'BMI = 30.12: Thuộc loại béo phì'"
      ]
     },
     "execution_count": 30,
     "metadata": {},
     "output_type": "execute_result"
    }
   ],
   "source": [
    "BMI_inter(h=165, w=82)"
   ]
  },
  {
   "cell_type": "markdown",
   "metadata": {},
   "source": [
    "Một phiên bản khác của hàm BMI_iter nhận function lambda làm argument, và xuất ra 1 hàm và 1 kết quả"
   ]
  },
  {
   "cell_type": "code",
   "execution_count": 36,
   "metadata": {},
   "outputs": [],
   "source": [
    "def BMI_inter2(h,w, func= lambda h,w: w/(0.01*h)**2):\n",
    "    out = func(h,w)\n",
    "    return func, f'BMI = {out:.2f}: Thuộc loại béo phì' if out > 30.0 else f'BMI = {out: .3f}'"
   ]
  },
  {
   "cell_type": "code",
   "execution_count": 39,
   "metadata": {},
   "outputs": [
    {
     "name": "stdout",
     "output_type": "stream",
     "text": [
      "BMI = 30.12: Thuộc loại béo phì\n",
      "30.119375573921022\n"
     ]
    }
   ],
   "source": [
    "bmi_func, res = BMI_inter2(h=165, w=82)\n",
    "\n",
    "print(res)\n",
    "\n",
    "print(bmi_func(165,82))"
   ]
  },
  {
   "cell_type": "markdown",
   "metadata": {},
   "source": [
    "## Decorator đơn giản: không thay đổi tính năng hàm \n",
    "\n",
    "Như vậy, bạn có thể thấy rằng function có thể được dùng với vai trò rất linh hoạt.\n",
    "\n",
    "Bây giờ ta nói về decorator; về bản chất thì decorator cũng là 1 hàm (function), nhưng nó nhận argument là 1 function, và có khả năng đóng gói, thi hành, thay đổi cấu trúc và tính năng của hàm này.\n",
    "\n",
    "Trong 1 thí dụ đơn giản nhất, ta muốn kiểm tra khi nào 1 hàm my_func được thi hành, và khi nào nó kết thúc; ta sẽ tạo một decorator tên là test:\n",
    "\n",
    "1) test nhận my_func làm argument\n",
    "\n",
    "2) bên trong test có 1 hàm exec_func() làm nhiệm vụ: in 2 dòng thông báo khi hàm my_func bắt đầu và kết thúc\n",
    "\n",
    "3) Hàm exec_func đóng gói hàm my_func và xuất ra dưới 1 object là out\n",
    "\n",
    "4) test xuất ra kết quả là exec_func()\n",
    "\n",
    "Khi chưa dùng decorator test, hàm my_func không có tính năng thông báo khi nào nó chạy hay kết thúc:"
   ]
  },
  {
   "cell_type": "code",
   "execution_count": 41,
   "metadata": {
    "run_control": {
     "marked": false
    }
   },
   "outputs": [
    {
     "name": "stdout",
     "output_type": "stream",
     "text": [
      "Bạn đang chạy hàm my_func\n"
     ]
    },
    {
     "data": {
      "text/plain": [
       "'Đây là kết quả của hàm my_func'"
      ]
     },
     "execution_count": 41,
     "metadata": {},
     "output_type": "execute_result"
    }
   ],
   "source": [
    "import time\n",
    "\n",
    "def my_func():\n",
    "    print('Bạn đang chạy hàm my_func')\n",
    "    time.sleep(3)\n",
    "    return 'Đây là kết quả của hàm my_func'\n",
    "\n",
    "my_func()"
   ]
  },
  {
   "cell_type": "code",
   "execution_count": 43,
   "metadata": {},
   "outputs": [],
   "source": [
    "import time\n",
    "\n",
    "def test(function):\n",
    "    def exec_func():\n",
    "        print(f'Bắt đầu thi hành hàm {function}')\n",
    "        out = function()\n",
    "        print(f'Kết thúc hàm {function}')\n",
    "        return out\n",
    "    return exec_func"
   ]
  },
  {
   "cell_type": "markdown",
   "metadata": {},
   "source": [
    "Decorator được dùng bằng cách đặt tên của nó sau kí tự @, và ngay trước đoạn code khai báo hàm my_func"
   ]
  },
  {
   "cell_type": "code",
   "execution_count": 44,
   "metadata": {},
   "outputs": [],
   "source": [
    "@test\n",
    "def my_func():\n",
    "    print('Bạn đang chạy hàm my_func')\n",
    "    time.sleep(3)\n",
    "    return 'Đây là kết quả của hàm my_func'"
   ]
  },
  {
   "cell_type": "markdown",
   "metadata": {},
   "source": [
    "Lúc này hàm my_func có thêm tính năng thông báo bắt đầu và kết thúc mà bản thân nó không có trước kia"
   ]
  },
  {
   "cell_type": "code",
   "execution_count": 45,
   "metadata": {},
   "outputs": [
    {
     "name": "stdout",
     "output_type": "stream",
     "text": [
      "Bắt đầu thi hành hàm <function my_func at 0x00000173E719A048>\n",
      "Bạn đang chạy hàm my_func\n",
      "Kết thúc hàm <function my_func at 0x00000173E719A048>\n"
     ]
    },
    {
     "data": {
      "text/plain": [
       "'Đây là kết quả của hàm my_func'"
      ]
     },
     "execution_count": 45,
     "metadata": {},
     "output_type": "execute_result"
    }
   ],
   "source": [
    "my_func()"
   ]
  },
  {
   "cell_type": "markdown",
   "metadata": {},
   "source": [
    "## Decorator làm thay đổi tính năng hàm mục tiêu\n",
    "\n",
    "Bây giờ, ta sẽ decorator để thay đổi tính năng của 1 hàm mục tiêu. Trong thí dụ sau: Ta có hàm read_exam() làm nhiệm vụ so sánh kết quả 1 xét nghiệm res và giá trị tham chiếu normal, nếu tỉ lệ res/normal thấp hơn 80%, in kết quả bất thường"
   ]
  },
  {
   "cell_type": "code",
   "execution_count": 55,
   "metadata": {},
   "outputs": [
    {
     "name": "stdout",
     "output_type": "stream",
     "text": [
      "Kết quả xét nghiệm =  0.790 % giá trị tham chiếu: Bất thường\n"
     ]
    }
   ],
   "source": [
    "def read_exam(res = None, normal = 100):\n",
    "    out = res/normal\n",
    "    inter = 'Bất thường' if out < 0.8 else 'Bình thường'\n",
    "    print(f\"Kết quả xét nghiệm = {out: .3f} % giá trị tham chiếu:\", inter)\n",
    "\n",
    "read_exam(res = 79, normal = 100)"
   ]
  },
  {
   "cell_type": "markdown",
   "metadata": {},
   "source": [
    "Giả sử ta muốn điều chỉnh một cách hệ thống giá trị tham chiếu cho chủng tộc châu Á, theo quy luật, người châu Á có giá trị normal thấp hơn 10% so với người Âu, ta có thể dùng 1 decorator asian như sau:\n",
    "\n",
    "1) Decorator asian nhận function read_exam() như argument\n",
    "\n",
    "2) Bên trong asian, ta tạo 1 function inner_func có cấu trúc giống như read_exam, nhưng tính lại normal = 90% của normal\n",
    "\n",
    "3) Thi hành hàm func bên trong hàm inner_func() và xuất kết quả\n",
    "\n",
    "3) asian xuất kết quả là hàm inner_func"
   ]
  },
  {
   "cell_type": "code",
   "execution_count": 57,
   "metadata": {},
   "outputs": [],
   "source": [
    "def asian(func):\n",
    "    def inner_func(res, normal):\n",
    "        normal *= 0.9\n",
    "        return func(res, normal)\n",
    "    return inner_func"
   ]
  },
  {
   "cell_type": "code",
   "execution_count": 58,
   "metadata": {},
   "outputs": [],
   "source": [
    "@asian\n",
    "def read_exam(res = None, normal = 100):\n",
    "    out = res/normal\n",
    "    inter = 'Bất thường' if out < 0.8 else 'Bình thường'\n",
    "    print(f\"Kết quả xét nghiệm = {out: .3f} % giá trị tham chiếu:\", inter)"
   ]
  },
  {
   "cell_type": "markdown",
   "metadata": {},
   "source": [
    "Sau khi dùng decorator asian, ta có 1 hàm read_exam mới, trong đó argument normal được tự động trừ đi 10%"
   ]
  },
  {
   "cell_type": "code",
   "execution_count": 59,
   "metadata": {},
   "outputs": [
    {
     "name": "stdout",
     "output_type": "stream",
     "text": [
      "Kết quả xét nghiệm =  0.867 % giá trị tham chiếu: Bình thường\n"
     ]
    }
   ],
   "source": [
    "read_exam(res = 78, normal = 100)"
   ]
  },
  {
   "cell_type": "markdown",
   "metadata": {},
   "source": [
    "## Dùng decorator để đo thời gian thi hành function\n",
    "\n",
    "Một ứng dụng phổ biến của decorator là để đo hiệu suất của hàm, ta muốn biết nó thi hành mất bao lâu:\n",
    "\n",
    "Trong thí dụ sau, ta tạo ra decorator timer và áp dụng cho hàm my_func.\n",
    "\n",
    "Bên trong decorator timer, ta đóng gói hàm my_func vào 1 hàm inner_func, để đưa thêm tính năng đo đếm thời gian:"
   ]
  },
  {
   "cell_type": "code",
   "execution_count": 76,
   "metadata": {},
   "outputs": [],
   "source": [
    "def timer(func):\n",
    "    def inner_func(*args):\n",
    "        start = time.time()\n",
    "        out = func(*args)\n",
    "        duration = time.time() - start\n",
    "        print(f'Hàm {func} chạy mất {duration} giây')\n",
    "        return out\n",
    "    return inner_func"
   ]
  },
  {
   "cell_type": "code",
   "execution_count": 77,
   "metadata": {},
   "outputs": [],
   "source": [
    "@timer\n",
    "def my_func(dt):\n",
    "    print('Hàm my_func đang chạy')\n",
    "    time.sleep(dt)\n",
    "    return 'Hàm my_func chạy xong'"
   ]
  },
  {
   "cell_type": "code",
   "execution_count": 78,
   "metadata": {},
   "outputs": [
    {
     "name": "stdout",
     "output_type": "stream",
     "text": [
      "Hàm my_func đang chạy\n",
      "Hàm <function my_func at 0x00000173E719A048> chạy mất 8.013370990753174 giây\n"
     ]
    },
    {
     "data": {
      "text/plain": [
       "'Hàm my_func chạy xong'"
      ]
     },
     "execution_count": 78,
     "metadata": {},
     "output_type": "execute_result"
    }
   ],
   "source": [
    "my_func(8)"
   ]
  },
  {
   "cell_type": "markdown",
   "metadata": {},
   "source": [
    "## Decorator có chứa argument\n",
    "\n",
    "Trong các thí dụ trên, decorator là một cấu trúc bất biến, tuy nhiên ta có thể tạo decorator có chứa tham số (argument) và dùng argument này để thay đổi tính năng decorator; \n",
    "\n",
    "Trong thí dụ sau, ta cùng làm lại decorator asian, nhưng có thêm argument 'coef' cho phép xác định % hiệu chỉnh của normal, thí dụ 12% hay 15% thay vì 10% cố định:"
   ]
  },
  {
   "cell_type": "code",
   "execution_count": 65,
   "metadata": {},
   "outputs": [],
   "source": [
    "def asian(coef):\n",
    "    def adjuster(func):\n",
    "        def new_func(**kwargs):\n",
    "            res = kwargs['res']\n",
    "            normal = kwargs['normal']\n",
    "            normal *= (1-coef)\n",
    "            return func(res, normal)\n",
    "        return new_func\n",
    "    return adjuster"
   ]
  },
  {
   "cell_type": "code",
   "execution_count": 66,
   "metadata": {},
   "outputs": [],
   "source": [
    "@asian(0.15)\n",
    "def read_exam(res = 78, normal = 100):\n",
    "    print(f'Kết quả = {res/normal} % giá trị tham chiếu')"
   ]
  },
  {
   "cell_type": "code",
   "execution_count": 67,
   "metadata": {},
   "outputs": [
    {
     "name": "stdout",
     "output_type": "stream",
     "text": [
      "Kết quả = 0.9176470588235294 % giá trị tham chiếu\n"
     ]
    }
   ],
   "source": [
    "read_exam(res = 78, normal = 100)"
   ]
  },
  {
   "cell_type": "code",
   "execution_count": 68,
   "metadata": {},
   "outputs": [],
   "source": [
    "@asian(0.13)\n",
    "def read_exam(res = 78, normal = 100):\n",
    "    print(f'Kết quả = {res/normal} % giá trị tham chiếu')"
   ]
  },
  {
   "cell_type": "code",
   "execution_count": 69,
   "metadata": {},
   "outputs": [
    {
     "name": "stdout",
     "output_type": "stream",
     "text": [
      "Kết quả = 0.896551724137931 % giá trị tham chiếu\n"
     ]
    }
   ],
   "source": [
    "read_exam(res = 78, normal = 100)"
   ]
  },
  {
   "cell_type": "markdown",
   "metadata": {},
   "source": [
    "## Dùng decorator để kiểm tra dữ liệu đầu vào\n",
    "\n",
    "Trong 1 thí dụ khác, ta có thể dùng decorator để kiểm tra dữ liệu argument của 1 hàm có phải là float, integer hay string hay không ?\n",
    "\n",
    "Thí dụ: decorator check_float kiểm tra argument res của hàm read_exam có phải là float number, nếu không, sẽ báo lỗi, nếu có sẽ tiếp tục thi hành "
   ]
  },
  {
   "cell_type": "code",
   "execution_count": 70,
   "metadata": {},
   "outputs": [],
   "source": [
    "def check_float(func):\n",
    "    def new_func(**kwargs):\n",
    "        res = kwargs['res']\n",
    "        if not isinstance(res, float):\n",
    "            raise Exception('res phải là float number')\n",
    "        return func(**kwargs)\n",
    "    return new_func"
   ]
  },
  {
   "cell_type": "code",
   "execution_count": 71,
   "metadata": {},
   "outputs": [],
   "source": [
    "@check_float\n",
    "def read_exam(res = 78, normal = 100):\n",
    "    print(f'Kết quả = {res}')"
   ]
  },
  {
   "cell_type": "code",
   "execution_count": 72,
   "metadata": {},
   "outputs": [
    {
     "ename": "Exception",
     "evalue": "res phải là float number",
     "output_type": "error",
     "traceback": [
      "\u001b[1;31m---------------------------------------------------------------------------\u001b[0m",
      "\u001b[1;31mException\u001b[0m                                 Traceback (most recent call last)",
      "\u001b[1;32m<ipython-input-72-be47073adb99>\u001b[0m in \u001b[0;36m<module>\u001b[1;34m\u001b[0m\n\u001b[1;32m----> 1\u001b[1;33m \u001b[0mread_exam\u001b[0m\u001b[1;33m(\u001b[0m\u001b[0mres\u001b[0m \u001b[1;33m=\u001b[0m \u001b[1;36m78\u001b[0m\u001b[1;33m,\u001b[0m \u001b[0mnormal\u001b[0m \u001b[1;33m=\u001b[0m \u001b[1;36m100\u001b[0m\u001b[1;33m)\u001b[0m\u001b[1;33m\u001b[0m\u001b[1;33m\u001b[0m\u001b[0m\n\u001b[0m",
      "\u001b[1;32m<ipython-input-70-0a422f69eb7a>\u001b[0m in \u001b[0;36mnew_func\u001b[1;34m(**kwargs)\u001b[0m\n\u001b[0;32m      3\u001b[0m         \u001b[0mres\u001b[0m \u001b[1;33m=\u001b[0m \u001b[0mkwargs\u001b[0m\u001b[1;33m[\u001b[0m\u001b[1;34m'res'\u001b[0m\u001b[1;33m]\u001b[0m\u001b[1;33m\u001b[0m\u001b[1;33m\u001b[0m\u001b[0m\n\u001b[0;32m      4\u001b[0m         \u001b[1;32mif\u001b[0m \u001b[1;32mnot\u001b[0m \u001b[0misinstance\u001b[0m\u001b[1;33m(\u001b[0m\u001b[0mres\u001b[0m\u001b[1;33m,\u001b[0m \u001b[0mfloat\u001b[0m\u001b[1;33m)\u001b[0m\u001b[1;33m:\u001b[0m\u001b[1;33m\u001b[0m\u001b[1;33m\u001b[0m\u001b[0m\n\u001b[1;32m----> 5\u001b[1;33m             \u001b[1;32mraise\u001b[0m \u001b[0mException\u001b[0m\u001b[1;33m(\u001b[0m\u001b[1;34m'res phải là float number'\u001b[0m\u001b[1;33m)\u001b[0m\u001b[1;33m\u001b[0m\u001b[1;33m\u001b[0m\u001b[0m\n\u001b[0m\u001b[0;32m      6\u001b[0m         \u001b[1;32mreturn\u001b[0m \u001b[0mfunc\u001b[0m\u001b[1;33m(\u001b[0m\u001b[1;33m**\u001b[0m\u001b[0mkwargs\u001b[0m\u001b[1;33m)\u001b[0m\u001b[1;33m\u001b[0m\u001b[1;33m\u001b[0m\u001b[0m\n\u001b[0;32m      7\u001b[0m     \u001b[1;32mreturn\u001b[0m \u001b[0mnew_func\u001b[0m\u001b[1;33m\u001b[0m\u001b[1;33m\u001b[0m\u001b[0m\n",
      "\u001b[1;31mException\u001b[0m: res phải là float number"
     ]
    }
   ],
   "source": [
    "read_exam(res = 78, normal = 100)"
   ]
  },
  {
   "cell_type": "code",
   "execution_count": 74,
   "metadata": {},
   "outputs": [
    {
     "name": "stdout",
     "output_type": "stream",
     "text": [
      "Kết quả = 78.0 là float number\n"
     ]
    }
   ],
   "source": [
    "read_exam(res = 78.0, normal = 100)"
   ]
  },
  {
   "cell_type": "markdown",
   "metadata": {},
   "source": [
    "## Decorator kép\n",
    "    \n",
    "Có thể déung đồng thời nhiều decorator, như trong thí dụ đơn giản sau, ta dùng 2 decorator: print_flag thông báo hàm bắt đầu thi hành, và timer để đo thời gian:"
   ]
  },
  {
   "cell_type": "code",
   "execution_count": 79,
   "metadata": {},
   "outputs": [],
   "source": [
    "def print_flag(func):\n",
    "    def new_function(dt):\n",
    "        print('Bắt đầu')\n",
    "        return func(dt)\n",
    "    return new_function\n",
    "\n",
    "def timer(func):\n",
    "    def new_function(dt):\n",
    "        start = time.time()\n",
    "        out = func(dt)\n",
    "        end = time.time()\n",
    "        dur = end - start\n",
    "        print(f'Hàm chạy mất {dur} giây')\n",
    "        return out\n",
    "    return new_function"
   ]
  },
  {
   "cell_type": "code",
   "execution_count": 80,
   "metadata": {},
   "outputs": [],
   "source": [
    "@print_flag\n",
    "@timer\n",
    "def my_func(dt = 7):\n",
    "    time.sleep(dt)\n",
    "    return 'Kết quả hàm my_func'"
   ]
  },
  {
   "cell_type": "code",
   "execution_count": 81,
   "metadata": {},
   "outputs": [
    {
     "name": "stdout",
     "output_type": "stream",
     "text": [
      "Bắt đầu\n",
      "Hàm chạy mất 7.003093481063843 giây\n"
     ]
    },
    {
     "data": {
      "text/plain": [
       "'Kết quả hàm my_func'"
      ]
     },
     "execution_count": 81,
     "metadata": {},
     "output_type": "execute_result"
    }
   ],
   "source": [
    "my_func(dt = 7)"
   ]
  },
  {
   "cell_type": "markdown",
   "metadata": {},
   "source": [
    "## Decorator làm thay đổi kết quả hàm mục tiêu\n",
    "\n",
    "Ở trên, ta thấy có thể dùng decorator để điều chỉnh argument của hàm mục tiêu trước khi thi hành nó; trong thí dụ tiếp theo này, ta không thay đổi argument nhưng thay đổi trực tiếp kết quả của hàm mục tiêu ngay sau khi nó được thi hành;\n",
    "\n",
    "Ta dùng decorator inches để đổi giá trị chiều cao của hàm height từ cm sang inch:"
   ]
  },
  {
   "cell_type": "code",
   "execution_count": 82,
   "metadata": {},
   "outputs": [],
   "source": [
    "def inches(func):\n",
    "    def height_entry(**kwargs):\n",
    "        height = kwargs['height']\n",
    "        out = func(**kwargs)\n",
    "        return f'Chiều cao = {out*0.393701} inches'\n",
    "    return height_entry\n",
    "\n",
    "\n",
    "def height_input(height):\n",
    "    print(f'Chiều cao = {height} cm')\n",
    "    return height"
   ]
  },
  {
   "cell_type": "code",
   "execution_count": 83,
   "metadata": {},
   "outputs": [
    {
     "name": "stdout",
     "output_type": "stream",
     "text": [
      "Chiều cao = 176 cm\n"
     ]
    },
    {
     "data": {
      "text/plain": [
       "176"
      ]
     },
     "execution_count": 83,
     "metadata": {},
     "output_type": "execute_result"
    }
   ],
   "source": [
    "height_input(height = 176)"
   ]
  },
  {
   "cell_type": "code",
   "execution_count": 84,
   "metadata": {},
   "outputs": [],
   "source": [
    "@inches\n",
    "def height_input(height):\n",
    "    print(f'Chiều cao = {height} cm')\n",
    "    return height"
   ]
  },
  {
   "cell_type": "code",
   "execution_count": 85,
   "metadata": {},
   "outputs": [
    {
     "name": "stdout",
     "output_type": "stream",
     "text": [
      "Chiều cao = 176 cm\n"
     ]
    },
    {
     "data": {
      "text/plain": [
       "'Chiều cao = 69.291376 inches'"
      ]
     },
     "execution_count": 85,
     "metadata": {},
     "output_type": "execute_result"
    }
   ],
   "source": [
    "height_input(height = 176)"
   ]
  },
  {
   "cell_type": "markdown",
   "metadata": {},
   "source": [
    "## Hàm mục tiêu không mất đi đâu cả...\n",
    "\n",
    "Sau khi áp dụng decorator, hàm mục tiêu đã bị thay đổi tính năng và không còn là chính nó nữa, tuy nhiên ta có thể lấy lại phiên bản nguyên thủy của hàm này:\n",
    "\n",
    "Quay trở lại decorator asian và hàm read_exam"
   ]
  },
  {
   "cell_type": "code",
   "execution_count": 89,
   "metadata": {},
   "outputs": [],
   "source": [
    "def asian(func):\n",
    "    def inner_func(res, normal):\n",
    "        normal *= 0.9\n",
    "        return func(res, normal)\n",
    "    return inner_func\n",
    "\n",
    "@asian\n",
    "def read_exam(res = 78, normal = 100):\n",
    "    print(f'Kết quả = {res/normal} % giá trị tham chiếu')"
   ]
  },
  {
   "cell_type": "markdown",
   "metadata": {},
   "source": [
    "Sau khi dùng decorator, hàm read_exam là 1 objet có vị trí sau:"
   ]
  },
  {
   "cell_type": "code",
   "execution_count": 90,
   "metadata": {},
   "outputs": [
    {
     "data": {
      "text/plain": [
       "<function __main__.asian.<locals>.inner_func(res, normal)>"
      ]
     },
     "execution_count": 90,
     "metadata": {},
     "output_type": "execute_result"
    }
   ],
   "source": [
    "read_exam"
   ]
  },
  {
   "cell_type": "markdown",
   "metadata": {},
   "source": [
    "Nếu ta truy nhập vào sâu bên trong object này, có thể lấy lại hàm read_exam gốc tại : read_exam.\\__closure\\__[0].cell_contents"
   ]
  },
  {
   "cell_type": "code",
   "execution_count": 91,
   "metadata": {},
   "outputs": [
    {
     "data": {
      "text/plain": [
       "<cell at 0x00000173E71851C8: function object at 0x00000173E7186A68>"
      ]
     },
     "execution_count": 91,
     "metadata": {},
     "output_type": "execute_result"
    }
   ],
   "source": [
    "read_exam.__closure__[0]"
   ]
  },
  {
   "cell_type": "code",
   "execution_count": 92,
   "metadata": {},
   "outputs": [
    {
     "data": {
      "text/plain": [
       "<function __main__.read_exam(res=78, normal=100)>"
      ]
     },
     "execution_count": 92,
     "metadata": {},
     "output_type": "execute_result"
    }
   ],
   "source": [
    "read_exam.__closure__[0].cell_contents"
   ]
  },
  {
   "cell_type": "code",
   "execution_count": 93,
   "metadata": {},
   "outputs": [],
   "source": [
    "origin_func = read_exam.__closure__[0].cell_contents"
   ]
  },
  {
   "cell_type": "markdown",
   "metadata": {},
   "source": [
    "Hàm origin_function là phiên bản gốc của hàm read_exam trước khi bị thay đổi:"
   ]
  },
  {
   "cell_type": "code",
   "execution_count": 94,
   "metadata": {},
   "outputs": [
    {
     "name": "stdout",
     "output_type": "stream",
     "text": [
      "Kết quả = 0.8666666666666667 % giá trị tham chiếu\n"
     ]
    }
   ],
   "source": [
    "read_exam(res = 78, normal = 100)"
   ]
  },
  {
   "cell_type": "code",
   "execution_count": 95,
   "metadata": {},
   "outputs": [
    {
     "name": "stdout",
     "output_type": "stream",
     "text": [
      "Kết quả = 0.78 % giá trị tham chiếu\n"
     ]
    }
   ],
   "source": [
    "origin_func(res = 78, normal = 100)"
   ]
  },
  {
   "cell_type": "markdown",
   "metadata": {},
   "source": [
    "Bài thực hành về decorator tạm dừng ở đây, chúc các bạn thực hành vui và hẹn gặp lại."
   ]
  }
 ],
 "metadata": {
  "hide_input": false,
  "kernelspec": {
   "display_name": "Python 3",
   "language": "python",
   "name": "python3"
  },
  "language_info": {
   "codemirror_mode": {
    "name": "ipython",
    "version": 3
   },
   "file_extension": ".py",
   "mimetype": "text/x-python",
   "name": "python",
   "nbconvert_exporter": "python",
   "pygments_lexer": "ipython3",
   "version": "3.7.6"
  },
  "toc": {
   "base_numbering": 1,
   "nav_menu": {},
   "number_sections": true,
   "sideBar": true,
   "skip_h1_title": false,
   "title_cell": "Table of Contents",
   "title_sidebar": "Contents",
   "toc_cell": false,
   "toc_position": {},
   "toc_section_display": true,
   "toc_window_display": false
  }
 },
 "nbformat": 4,
 "nbformat_minor": 4
}
