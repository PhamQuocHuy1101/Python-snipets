{
 "cells": [
  {
   "cell_type": "markdown",
   "metadata": {},
   "source": [
    "# Algorithm: kiểm tra tính đơn điệu của 1 array\n",
    "\n",
    "### BS. Lê Ngọc Khả Nhi\n",
    "\n",
    "\n",
    "# Diễn đạt bài toán:\n",
    "\n",
    "Trong một nghiên cứu, người ta theo dõi một đại lượng sinh lý/bệnh X trong thời gian kéo dài trên nhiều bệnh nhân. Mỗi bệnh nhân sẽ có 1 chuỗi dữ liệu dài/ngắn khác nhau gồm nhiều giá trị của X. Giả sử ta được yêu cầu viết 1 hàm để chọn lọc những bệnh nhân nào có giá trị X tăng hoặc giảm một cách đơn điệu.\n",
    "\n",
    "\n",
    "# Phân tích\n",
    "\n",
    "## Dữ liệu đầu vào\n",
    "\n",
    "Dữ liệu đầu vào của function là 1 list hay 1D array, chứa giá trị là các con số (float hay integer), array này có độ dài > 0 và có thể chứa giá trị lặp lại liên tiếp.\n",
    "\n",
    "\n",
    "## Kết quả đầu ra\n",
    "Kết quả đầu ra là 1 giá trị boolean (True/False).\n",
    "\n",
    "\n",
    "## Cấu trúc dữ liệu\n",
    "Cấu trúc dữ liệu trong algorithm chính là array. \n",
    "\n",
    "\n",
    "## Hướng giải quyết\n",
    "Đây không phải là bài toán tìm kiếm (searching), và việc xếp thứ tự list không giúp ích gì cả; nhưng ta bắt buộc phải giữ nguyên thứ tự nguyên thủy và kiểm tra lần lượt từng vị trí trong array và so sánh với vị trí trước hoặc sau nó để kiểm tra điều kiện. Ta có thể dùng 1 vòng lặp for hoặc 1 vòng lặp while, cùng if condition check\n",
    "\n",
    "Nhận xét: \n",
    "\n",
    "Theo định nghĩa, biến thiên đơn điệu là \"không tăng\" hoặc \"không giảm\", do đó mục tiêu cần kiểm tra là mệnh đề phủ định của \"tăng\"/\"giảm\".\n",
    "\n",
    "Tính chất \"không tăng\", \"không giảm\" có thể áp dụng được cho 2 giá trị bằng nhau liên tiếp. \n",
    "\n",
    "\n",
    "## Hiệu suất\n",
    "Do không thể bỏ qua 1 phần tử nào cả, hiệu suất tốt nhất ta có thể đạt được về thời gian là O(N) với N là kích thước array. Hiệu suất về không gian lưu trữ sẽ là O(1).\n",
    "\n",
    "# Đáp án 1"
   ]
  },
  {
   "cell_type": "code",
   "execution_count": 1,
   "metadata": {},
   "outputs": [],
   "source": [
    "# Giải pháp dùng vòng lặp for và 2 conditions check\n",
    "\n",
    "def monotonic_check(lst):\n",
    "    \n",
    "    assert(len(lst) > 1), 'Array phải chứa ít nhất 2 giá trị'\n",
    "    \n",
    "    # giá trị cơ bản của 2 đkiện\n",
    "    no_decrease = True\n",
    "    no_increase = True\n",
    "    \n",
    "    # vòng lặp\n",
    "    for i in range(1, len(lst)):\n",
    "        if lst[i] < lst[i-1]:\n",
    "            no_decrease = False\n",
    "        if lst[i] > lst[i-1]:\n",
    "            no_increase = False\n",
    "    \n",
    "    # tổng hợp\n",
    "    return no_decrease or no_increase"
   ]
  },
  {
   "cell_type": "code",
   "execution_count": 2,
   "metadata": {},
   "outputs": [
    {
     "ename": "AssertionError",
     "evalue": "Array phải chứa ít nhất 2 giá trị",
     "output_type": "error",
     "traceback": [
      "\u001b[0;31m---------------------------------------------------------------------------\u001b[0m",
      "\u001b[0;31mAssertionError\u001b[0m                            Traceback (most recent call last)",
      "\u001b[0;32m<ipython-input-2-5f5f5b2ab3e4>\u001b[0m in \u001b[0;36m<module>\u001b[0;34m\u001b[0m\n\u001b[0;32m----> 1\u001b[0;31m \u001b[0mmonotonic_check\u001b[0m\u001b[0;34m(\u001b[0m\u001b[0;34m[\u001b[0m\u001b[0;34m]\u001b[0m\u001b[0;34m)\u001b[0m\u001b[0;34m\u001b[0m\u001b[0;34m\u001b[0m\u001b[0m\n\u001b[0m",
      "\u001b[0;32m<ipython-input-1-4bbdf73da374>\u001b[0m in \u001b[0;36mmonotonic_check\u001b[0;34m(lst)\u001b[0m\n\u001b[1;32m      3\u001b[0m \u001b[0;32mdef\u001b[0m \u001b[0mmonotonic_check\u001b[0m\u001b[0;34m(\u001b[0m\u001b[0mlst\u001b[0m\u001b[0;34m)\u001b[0m\u001b[0;34m:\u001b[0m\u001b[0;34m\u001b[0m\u001b[0;34m\u001b[0m\u001b[0m\n\u001b[1;32m      4\u001b[0m \u001b[0;34m\u001b[0m\u001b[0m\n\u001b[0;32m----> 5\u001b[0;31m     \u001b[0;32massert\u001b[0m\u001b[0;34m(\u001b[0m\u001b[0mlen\u001b[0m\u001b[0;34m(\u001b[0m\u001b[0mlst\u001b[0m\u001b[0;34m)\u001b[0m \u001b[0;34m>\u001b[0m \u001b[0;36m1\u001b[0m\u001b[0;34m)\u001b[0m\u001b[0;34m,\u001b[0m \u001b[0;34m'Array phải chứa ít nhất 2 giá trị'\u001b[0m\u001b[0;34m\u001b[0m\u001b[0;34m\u001b[0m\u001b[0m\n\u001b[0m\u001b[1;32m      6\u001b[0m \u001b[0;34m\u001b[0m\u001b[0m\n\u001b[1;32m      7\u001b[0m     \u001b[0;31m# giá trị cơ bản của 2 đkiện\u001b[0m\u001b[0;34m\u001b[0m\u001b[0;34m\u001b[0m\u001b[0;34m\u001b[0m\u001b[0m\n",
      "\u001b[0;31mAssertionError\u001b[0m: Array phải chứa ít nhất 2 giá trị"
     ]
    }
   ],
   "source": [
    "monotonic_check([])"
   ]
  },
  {
   "cell_type": "code",
   "execution_count": 3,
   "metadata": {},
   "outputs": [
    {
     "ename": "AssertionError",
     "evalue": "Array phải chứa ít nhất 2 giá trị",
     "output_type": "error",
     "traceback": [
      "\u001b[0;31m---------------------------------------------------------------------------\u001b[0m",
      "\u001b[0;31mAssertionError\u001b[0m                            Traceback (most recent call last)",
      "\u001b[0;32m<ipython-input-3-97e341d3d261>\u001b[0m in \u001b[0;36m<module>\u001b[0;34m\u001b[0m\n\u001b[0;32m----> 1\u001b[0;31m \u001b[0mmonotonic_check\u001b[0m\u001b[0;34m(\u001b[0m\u001b[0;34m[\u001b[0m\u001b[0;36m0\u001b[0m\u001b[0;34m]\u001b[0m\u001b[0;34m)\u001b[0m\u001b[0;34m\u001b[0m\u001b[0;34m\u001b[0m\u001b[0m\n\u001b[0m",
      "\u001b[0;32m<ipython-input-1-4bbdf73da374>\u001b[0m in \u001b[0;36mmonotonic_check\u001b[0;34m(lst)\u001b[0m\n\u001b[1;32m      3\u001b[0m \u001b[0;32mdef\u001b[0m \u001b[0mmonotonic_check\u001b[0m\u001b[0;34m(\u001b[0m\u001b[0mlst\u001b[0m\u001b[0;34m)\u001b[0m\u001b[0;34m:\u001b[0m\u001b[0;34m\u001b[0m\u001b[0;34m\u001b[0m\u001b[0m\n\u001b[1;32m      4\u001b[0m \u001b[0;34m\u001b[0m\u001b[0m\n\u001b[0;32m----> 5\u001b[0;31m     \u001b[0;32massert\u001b[0m\u001b[0;34m(\u001b[0m\u001b[0mlen\u001b[0m\u001b[0;34m(\u001b[0m\u001b[0mlst\u001b[0m\u001b[0;34m)\u001b[0m \u001b[0;34m>\u001b[0m \u001b[0;36m1\u001b[0m\u001b[0;34m)\u001b[0m\u001b[0;34m,\u001b[0m \u001b[0;34m'Array phải chứa ít nhất 2 giá trị'\u001b[0m\u001b[0;34m\u001b[0m\u001b[0;34m\u001b[0m\u001b[0m\n\u001b[0m\u001b[1;32m      6\u001b[0m \u001b[0;34m\u001b[0m\u001b[0m\n\u001b[1;32m      7\u001b[0m     \u001b[0;31m# giá trị cơ bản của 2 đkiện\u001b[0m\u001b[0;34m\u001b[0m\u001b[0;34m\u001b[0m\u001b[0;34m\u001b[0m\u001b[0m\n",
      "\u001b[0;31mAssertionError\u001b[0m: Array phải chứa ít nhất 2 giá trị"
     ]
    }
   ],
   "source": [
    "monotonic_check([0])"
   ]
  },
  {
   "cell_type": "code",
   "execution_count": 4,
   "metadata": {},
   "outputs": [
    {
     "data": {
      "text/plain": [
       "True"
      ]
     },
     "execution_count": 4,
     "metadata": {},
     "output_type": "execute_result"
    }
   ],
   "source": [
    "monotonic_check([1,1])"
   ]
  },
  {
   "cell_type": "code",
   "execution_count": 5,
   "metadata": {},
   "outputs": [
    {
     "data": {
      "text/plain": [
       "True"
      ]
     },
     "execution_count": 5,
     "metadata": {},
     "output_type": "execute_result"
    }
   ],
   "source": [
    "monotonic_check([1,1,2])"
   ]
  },
  {
   "cell_type": "code",
   "execution_count": 6,
   "metadata": {},
   "outputs": [
    {
     "data": {
      "text/plain": [
       "True"
      ]
     },
     "execution_count": 6,
     "metadata": {},
     "output_type": "execute_result"
    }
   ],
   "source": [
    "monotonic_check([1.5, 0.2, 0.01, -0.8, -1.6])"
   ]
  },
  {
   "cell_type": "code",
   "execution_count": 7,
   "metadata": {},
   "outputs": [
    {
     "data": {
      "text/plain": [
       "False"
      ]
     },
     "execution_count": 7,
     "metadata": {},
     "output_type": "execute_result"
    }
   ],
   "source": [
    "monotonic_check([1,1,2,0])"
   ]
  },
  {
   "cell_type": "code",
   "execution_count": 8,
   "metadata": {},
   "outputs": [
    {
     "data": {
      "text/plain": [
       "False"
      ]
     },
     "execution_count": 8,
     "metadata": {},
     "output_type": "execute_result"
    }
   ],
   "source": [
    "monotonic_check([3,1,1.5,0.5,0])"
   ]
  },
  {
   "cell_type": "markdown",
   "metadata": {},
   "source": [
    "# Đáp án 2"
   ]
  },
  {
   "cell_type": "code",
   "execution_count": 9,
   "metadata": {},
   "outputs": [],
   "source": [
    "# Giải pháp dùng vòng lặp while và 2 conditions check\n",
    "\n",
    "def monotonic_check_2(lst):\n",
    "    \n",
    "    assert(len(lst) > 1), 'Array phải chứa ít nhất 2 giá trị'\n",
    "    \n",
    "    no_decrease = True\n",
    "    no_increase = True\n",
    "    i=1\n",
    "    while i < len(lst):\n",
    "        if lst[i] < lst[i-1]:\n",
    "            no_decrease = False\n",
    "        if lst[i] > lst[i-1]:\n",
    "            no_increase = False\n",
    "        i += 1\n",
    "    \n",
    "    return no_decrease or no_increase"
   ]
  },
  {
   "cell_type": "code",
   "execution_count": 10,
   "metadata": {},
   "outputs": [
    {
     "data": {
      "text/plain": [
       "True"
      ]
     },
     "execution_count": 10,
     "metadata": {},
     "output_type": "execute_result"
    }
   ],
   "source": [
    "monotonic_check_2([1.5, 0.2, 0.01, 0.0, 0, -0.8, -1.6])"
   ]
  },
  {
   "cell_type": "code",
   "execution_count": 11,
   "metadata": {},
   "outputs": [
    {
     "data": {
      "text/plain": [
       "True"
      ]
     },
     "execution_count": 11,
     "metadata": {},
     "output_type": "execute_result"
    }
   ],
   "source": [
    "monotonic_check_2([0.03, 0.178, 0.69, 0.982, 1.274, 1.638, 1.943])"
   ]
  },
  {
   "cell_type": "code",
   "execution_count": 12,
   "metadata": {},
   "outputs": [
    {
     "data": {
      "text/plain": [
       "False"
      ]
     },
     "execution_count": 12,
     "metadata": {},
     "output_type": "execute_result"
    }
   ],
   "source": [
    "monotonic_check_2([0.03, 0.178, 0.69, 0.5, 0.982, 1.274, 1.638, 1.943])"
   ]
  },
  {
   "cell_type": "markdown",
   "metadata": {},
   "source": [
    "# Đáp án 3\n",
    "\n",
    "Giải pháp này không dùng condition check (if) mà dùng phép nhân giữa 2 giá trị boolean, ta tiết kiệm được 2 dòng code"
   ]
  },
  {
   "cell_type": "code",
   "execution_count": 13,
   "metadata": {},
   "outputs": [],
   "source": [
    "def monotonic_check_3(lst):\n",
    "    \n",
    "    assert(len(lst) > 1), 'Array phải chứa ít nhất 2 giá trị'\n",
    "    \n",
    "    no_decrease = True\n",
    "    no_increase = True\n",
    "    for i in range(1, len(lst)):\n",
    "        no_decrease *= (lst[i] <= lst[i-1])\n",
    "        no_increase *= (lst[i] >= lst[i-1])\n",
    "        \n",
    "    return no_decrease==1 or no_increase==1"
   ]
  },
  {
   "cell_type": "code",
   "execution_count": 14,
   "metadata": {},
   "outputs": [
    {
     "data": {
      "text/plain": [
       "True"
      ]
     },
     "execution_count": 14,
     "metadata": {},
     "output_type": "execute_result"
    }
   ],
   "source": [
    "monotonic_check_3([1.5, 0.2, 0.01, 0.0, 0, -0.8, -1.6])"
   ]
  },
  {
   "cell_type": "code",
   "execution_count": 15,
   "metadata": {},
   "outputs": [
    {
     "data": {
      "text/plain": [
       "True"
      ]
     },
     "execution_count": 15,
     "metadata": {},
     "output_type": "execute_result"
    }
   ],
   "source": [
    "monotonic_check_3([0.03, 0.178, 0.69, 0.982, 1.274, 1.638, 1.943])"
   ]
  },
  {
   "cell_type": "code",
   "execution_count": 16,
   "metadata": {},
   "outputs": [
    {
     "data": {
      "text/plain": [
       "True"
      ]
     },
     "execution_count": 16,
     "metadata": {},
     "output_type": "execute_result"
    }
   ],
   "source": [
    "monotonic_check_3([1,1,1])"
   ]
  },
  {
   "cell_type": "code",
   "execution_count": 17,
   "metadata": {},
   "outputs": [
    {
     "data": {
      "text/plain": [
       "False"
      ]
     },
     "execution_count": 17,
     "metadata": {},
     "output_type": "execute_result"
    }
   ],
   "source": [
    "monotonic_check_3([0.03, 0.178, 0.69, 0.5, 0.982, 1.274, 1.638, 1.943])"
   ]
  },
  {
   "cell_type": "code",
   "execution_count": 18,
   "metadata": {},
   "outputs": [
    {
     "ename": "NameError",
     "evalue": "name 'reduce' is not defined",
     "output_type": "error",
     "traceback": [
      "\u001b[0;31m---------------------------------------------------------------------------\u001b[0m",
      "\u001b[0;31mNameError\u001b[0m                                 Traceback (most recent call last)",
      "\u001b[0;32m<ipython-input-18-c9a94aea714d>\u001b[0m in \u001b[0;36m<module>\u001b[0;34m\u001b[0m\n\u001b[0;32m----> 1\u001b[0;31m \u001b[0mreduce\u001b[0m\u001b[0;34m(\u001b[0m\u001b[0;32mlambda\u001b[0m \u001b[0ma\u001b[0m\u001b[0;34m,\u001b[0m\u001b[0mb\u001b[0m\u001b[0;34m:\u001b[0m \u001b[0ma\u001b[0m \u001b[0;34m<\u001b[0m \u001b[0mb\u001b[0m\u001b[0;34m,\u001b[0m \u001b[0marr_i\u001b[0m\u001b[0;34m)\u001b[0m\u001b[0;34m\u001b[0m\u001b[0;34m\u001b[0m\u001b[0m\n\u001b[0m",
      "\u001b[0;31mNameError\u001b[0m: name 'reduce' is not defined"
     ]
    }
   ],
   "source": [
    "reduce(lambda a,b: a < b, arr_i)"
   ]
  },
  {
   "cell_type": "code",
   "execution_count": 19,
   "metadata": {
    "scrolled": true
   },
   "outputs": [
    {
     "ename": "NameError",
     "evalue": "name 'reduce' is not defined",
     "output_type": "error",
     "traceback": [
      "\u001b[0;31m---------------------------------------------------------------------------\u001b[0m",
      "\u001b[0;31mNameError\u001b[0m                                 Traceback (most recent call last)",
      "\u001b[0;32m<ipython-input-19-a4ec5f75a671>\u001b[0m in \u001b[0;36m<module>\u001b[0;34m\u001b[0m\n\u001b[0;32m----> 1\u001b[0;31m \u001b[0mreduce\u001b[0m\u001b[0;34m(\u001b[0m\u001b[0;32mlambda\u001b[0m \u001b[0ma\u001b[0m\u001b[0;34m,\u001b[0m\u001b[0mb\u001b[0m\u001b[0;34m:\u001b[0m \u001b[0ma\u001b[0m \u001b[0;34m<\u001b[0m \u001b[0mb\u001b[0m\u001b[0;34m,\u001b[0m \u001b[0marr_d\u001b[0m\u001b[0;34m)\u001b[0m\u001b[0;34m\u001b[0m\u001b[0;34m\u001b[0m\u001b[0m\n\u001b[0m",
      "\u001b[0;31mNameError\u001b[0m: name 'reduce' is not defined"
     ]
    }
   ],
   "source": [
    "reduce(lambda a,b: a < b, arr_d)"
   ]
  },
  {
   "cell_type": "markdown",
   "metadata": {},
   "source": [
    "## 4\n",
    "\n",
    "- Nêú chỉ xác định là tăng (giảm) dần mà không cần chỉ ra cụ thể dãy tăng (giảm) thì không cần thiết phải dùng 2 điểu kiện trong vòng lặp.\n",
    "- Cũng như vậy, chỉ cần phát hiện không thỏa yêu cầu có thể break ngay tại vị trí đó.\n",
    "- Độ phức tạp của giải thuật: \n",
    "    + Xấu nhất trong trường hợp là dãy tăng (giảm), duyệt n lần.\n",
    "    + Nhìn chung vẫn là O(n) (O(0.5n) ~ O(n)). \n",
    "    + Có thể kiểm chứng thời gian cho các trường hợp false sẽ không phải duyệt hết tất cả các phần tử."
   ]
  },
  {
   "cell_type": "code",
   "execution_count": 20,
   "metadata": {},
   "outputs": [],
   "source": [
    "# Giả sử yêu cầu bài toán là toàn bộ băng nhau sẽ return True.\n",
    "# Nếu bài toán yêu cầu khác có thể sửa code nhanh chóng\n",
    "\n",
    "def monotonic_check_4(arr):\n",
    "    if (len(arr) < 2):\n",
    "        return False\n",
    "    \n",
    "    n = len(arr)\n",
    "    i = 1\n",
    "    # Tat ca bang nhau\n",
    "    while arr[i - 1] == arr[i]:\n",
    "        i += 1\n",
    "        if (i == n):\n",
    "            return True\n",
    "    \n",
    "    if arr[i - 1] < arr[i]:\n",
    "        # increase\n",
    "        for i in range(i + 1, len(arr)):\n",
    "            if arr[i - 1] > arr[i]:\n",
    "                return False\n",
    "    else:\n",
    "        # decrease\n",
    "        for i in range(i + 1, len(arr)):\n",
    "            if arr[i - 1] < arr[i]:\n",
    "                return False\n",
    "    return True\n",
    "\n",
    "def monotonic_check_4_b(arr):\n",
    "    if (len(arr) < 2):\n",
    "        return False\n",
    "    check = arr[0] <= arr[1]\n",
    "    n = len(arr)\n",
    "\n",
    "    for i in range(2, n):\n",
    "        if check ^ (arr[i-1] <= arr[i]): \n",
    "            return False\n",
    "\n",
    "    return True"
   ]
  },
  {
   "cell_type": "code",
   "execution_count": 21,
   "metadata": {},
   "outputs": [
    {
     "name": "stdout",
     "output_type": "stream",
     "text": [
      "False\n",
      "False\n"
     ]
    }
   ],
   "source": [
    "print(monotonic_check_4([0.03, 0.178, 0.69, 0.5, 0.982, 1.274, 1.638, 1.943]))\n",
    "print(monotonic_check_4_b([0.03, 0.178, 0.69, 0.5, 0.982, 1.274, 1.638, 1.943]))"
   ]
  },
  {
   "cell_type": "code",
   "execution_count": 22,
   "metadata": {},
   "outputs": [
    {
     "name": "stdout",
     "output_type": "stream",
     "text": [
      "True\n",
      "True\n"
     ]
    }
   ],
   "source": [
    "print(monotonic_check_4([0.03, 0.178, 0.69, 0.982, 1.274, 1.638, 1.943]))\n",
    "print(monotonic_check_4_b([0.03, 0.178, 0.69, 0.982, 1.274, 1.638, 1.943]))"
   ]
  },
  {
   "cell_type": "markdown",
   "metadata": {},
   "source": [
    "# Kiểm tra hàng loạt nhiều chuỗi\n",
    "\n",
    "Ta tạo ra 1 chuỗi tín hiệu amplitude có khuynh hướng biến đổi như sau:"
   ]
  },
  {
   "cell_type": "code",
   "execution_count": 23,
   "metadata": {},
   "outputs": [
    {
     "data": {
      "text/plain": [
       "[<matplotlib.lines.Line2D at 0x7f795cd4c790>]"
      ]
     },
     "execution_count": 23,
     "metadata": {},
     "output_type": "execute_result"
    }
   ],
   "source": [
    "import numpy as np\n",
    "import matplotlib.pyplot as plt\n",
    "\n",
    "time = np.arange(0, 20, 0.1)\n",
    "amplitude = np.sin(time) * 1.5*np.exp(0.1 * time)\n",
    "\n",
    "plt.plot(amplitude)"
   ]
  },
  {
   "cell_type": "markdown",
   "metadata": {},
   "source": [
    "Cắt chuỗi này thành 10 đoạn bằng nhàu với độ dài 20, áp dụng các hàm monotonic check ở trên để kiểm tra tính đơn điệu:"
   ]
  },
  {
   "cell_type": "code",
   "execution_count": 24,
   "metadata": {},
   "outputs": [],
   "source": [
    "samples = np.array(amplitude).reshape(10,20)"
   ]
  },
  {
   "cell_type": "code",
   "execution_count": 25,
   "metadata": {},
   "outputs": [
    {
     "data": {
      "text/plain": [
       "<matplotlib.legend.Legend at 0x7f7931c9d390>"
      ]
     },
     "execution_count": 25,
     "metadata": {},
     "output_type": "execute_result"
    },
    {
     "data": {
      "image/png": "[encoded data removed]",
      "text/plain": [
       "<Figure size 432x288 with 1 Axes>"
      ]
     },
     "metadata": {
      "needs_background": "light"
     },
     "output_type": "display_data"
    }
   ],
   "source": [
    "# Kiểm tra đáp án 1\n",
    "\n",
    "for i in range(10):\n",
    "    samp = samples[i,:]\n",
    "    mono = monotonic_check(samp)\n",
    "    plt.plot(samples[i,:], label = 'Đúng' if mono else 'Sai')\n",
    "\n",
    "plt.legend()"
   ]
  },
  {
   "cell_type": "code",
   "execution_count": 26,
   "metadata": {},
   "outputs": [
    {
     "data": {
      "text/plain": [
       "<matplotlib.legend.Legend at 0x7f7931b7c210>"
      ]
     },
     "execution_count": 26,
     "metadata": {},
     "output_type": "execute_result"
    },
    {
     "data": {
      "image/png": "[encoded data removed]",
      "text/plain": [
       "<Figure size 432x288 with 1 Axes>"
      ]
     },
     "metadata": {
      "needs_background": "light"
     },
     "output_type": "display_data"
    }
   ],
   "source": [
    "# Kiểm tra đáp án 2\n",
    "\n",
    "for i in range(10):\n",
    "    samp = samples[i,:]\n",
    "    mono = monotonic_check_2(samp)\n",
    "    plt.plot(samples[i,:], label = 'Đúng' if mono else 'Sai')\n",
    "\n",
    "plt.legend()"
   ]
  },
  {
   "cell_type": "code",
   "execution_count": 27,
   "metadata": {
    "scrolled": true
   },
   "outputs": [
    {
     "data": {
      "text/plain": [
       "<matplotlib.legend.Legend at 0x7f7931acdc50>"
      ]
     },
     "execution_count": 27,
     "metadata": {},
     "output_type": "execute_result"
    },
    {
     "data": {
      "image/png": "[encoded data removed]",
      "text/plain": [
       "<Figure size 432x288 with 1 Axes>"
      ]
     },
     "metadata": {
      "needs_background": "light"
     },
     "output_type": "display_data"
    }
   ],
   "source": [
    "# Kiểm tra đáp án 3\n",
    "\n",
    "for i in range(10):\n",
    "    samp = samples[i,:]\n",
    "    mono = monotonic_check_3(samp)\n",
    "    plt.plot(samples[i,:], label = 'Đúng' if mono else 'Sai')\n",
    "\n",
    "plt.legend()"
   ]
  },
  {
   "cell_type": "markdown",
   "metadata": {},
   "source": [
    "## Test thời gian thực thi"
   ]
  },
  {
   "cell_type": "code",
   "execution_count": 28,
   "metadata": {},
   "outputs": [],
   "source": [
    "# n = 200000\n",
    "time = np.arange(0, 20, 0.00001)\n",
    "amplitude = np.sin(time) * 1.5*np.exp(0.1 * time)\n",
    "samples =  np.array(amplitude).reshape(10, 200000)"
   ]
  },
  {
   "cell_type": "code",
   "execution_count": 29,
   "metadata": {},
   "outputs": [
    {
     "name": "stdout",
     "output_type": "stream",
     "text": [
      "Sample  0\n",
      "149 ms ± 7.94 ms per loop (mean ± std. dev. of 7 runs, 1 loop each)\n",
      "60 ms ± 2.88 ms per loop (mean ± std. dev. of 7 runs, 1 loop each)\n",
      "61.8 ms ± 3.45 ms per loop (mean ± std. dev. of 7 runs, 1 loop each)\n",
      "monotonic_check:  False\n",
      "monotonic_check:  False\n",
      "monotonic_check:  False\n",
      "Sample  1\n",
      "152 ms ± 19.9 ms per loop (mean ± std. dev. of 7 runs, 1 loop each)\n",
      "75.6 ms ± 7.58 ms per loop (mean ± std. dev. of 7 runs, 1 loop each)\n",
      "74.3 ms ± 4.39 ms per loop (mean ± std. dev. of 7 runs, 1 loop each)\n",
      "monotonic_check:  True\n",
      "monotonic_check:  True\n",
      "monotonic_check:  True\n",
      "Sample  2\n",
      "142 ms ± 2.51 ms per loop (mean ± std. dev. of 7 runs, 1 loop each)\n",
      "28 ms ± 187 µs per loop (mean ± std. dev. of 7 runs, 1 loop each)\n",
      "31.3 ms ± 3.34 ms per loop (mean ± std. dev. of 7 runs, 1 loop each)\n",
      "monotonic_check:  False\n",
      "monotonic_check:  False\n",
      "monotonic_check:  False\n",
      "Sample  3\n",
      "144 ms ± 4.27 ms per loop (mean ± std. dev. of 7 runs, 1 loop each)\n",
      "69.1 ms ± 3.18 ms per loop (mean ± std. dev. of 7 runs, 1 loop each)\n",
      "72.6 ms ± 3.38 ms per loop (mean ± std. dev. of 7 runs, 1 loop each)\n",
      "monotonic_check:  False\n",
      "monotonic_check:  False\n",
      "monotonic_check:  False\n",
      "Sample  4\n",
      "149 ms ± 13.9 ms per loop (mean ± std. dev. of 7 runs, 1 loop each)\n",
      "70.9 ms ± 4.59 ms per loop (mean ± std. dev. of 7 runs, 1 loop each)\n",
      "73.4 ms ± 2.48 ms per loop (mean ± std. dev. of 7 runs, 1 loop each)\n",
      "monotonic_check:  True\n",
      "monotonic_check:  True\n",
      "monotonic_check:  True\n",
      "Sample  5\n",
      "143 ms ± 4.48 ms per loop (mean ± std. dev. of 7 runs, 1 loop each)\n",
      "38.2 ms ± 995 µs per loop (mean ± std. dev. of 7 runs, 1 loop each)\n",
      "42.2 ms ± 4.06 ms per loop (mean ± std. dev. of 7 runs, 1 loop each)\n",
      "monotonic_check:  False\n",
      "monotonic_check:  False\n",
      "monotonic_check:  False\n",
      "Sample  6\n",
      "145 ms ± 3.78 ms per loop (mean ± std. dev. of 7 runs, 1 loop each)\n",
      "71.3 ms ± 4.09 ms per loop (mean ± std. dev. of 7 runs, 1 loop each)\n",
      "73.7 ms ± 2.67 ms per loop (mean ± std. dev. of 7 runs, 1 loop each)\n",
      "monotonic_check:  True\n",
      "monotonic_check:  True\n",
      "monotonic_check:  True\n",
      "Sample  7\n",
      "141 ms ± 2.53 ms per loop (mean ± std. dev. of 7 runs, 1 loop each)\n",
      "8.13 ms ± 110 µs per loop (mean ± std. dev. of 7 runs, 1 loop each)\n",
      "8.64 ms ± 161 µs per loop (mean ± std. dev. of 7 runs, 1 loop each)\n",
      "monotonic_check:  False\n",
      "monotonic_check:  False\n",
      "monotonic_check:  False\n",
      "Sample  8\n",
      "165 ms ± 26.3 ms per loop (mean ± std. dev. of 7 runs, 1 loop each)\n",
      "51.2 ms ± 6.43 ms per loop (mean ± std. dev. of 7 runs, 1 loop each)\n",
      "53.4 ms ± 4.07 ms per loop (mean ± std. dev. of 7 runs, 1 loop each)\n",
      "monotonic_check:  False\n",
      "monotonic_check:  False\n",
      "monotonic_check:  False\n",
      "Sample  9\n",
      "147 ms ± 5.34 ms per loop (mean ± std. dev. of 7 runs, 1 loop each)\n",
      "76.7 ms ± 9.45 ms per loop (mean ± std. dev. of 7 runs, 1 loop each)\n",
      "75.4 ms ± 3.95 ms per loop (mean ± std. dev. of 7 runs, 1 loop each)\n",
      "monotonic_check:  True\n",
      "monotonic_check:  True\n",
      "monotonic_check:  True\n"
     ]
    }
   ],
   "source": [
    "for i in range(10):\n",
    "    print('Sample ', i)\n",
    "    %timeit -n1 monotonic_check(samples[i])\n",
    "    %timeit -n1 monotonic_check_4(samples[i])\n",
    "    %timeit -n1 monotonic_check_4_b(samples[i])\n",
    "    print('monotonic_check: ', monotonic_check(samples[i]))\n",
    "    print('monotonic_check: ', monotonic_check_4(samples[i]))\n",
    "    print('monotonic_check: ', monotonic_check_4_b(samples[i]))"
   ]
  },
  {
   "cell_type": "code",
   "execution_count": null,
   "metadata": {},
   "outputs": [],
   "source": []
  }
 ],
 "metadata": {
  "hide_input": false,
  "kernelspec": {
   "display_name": "Python 3",
   "language": "python",
   "name": "python3"
  },
  "language_info": {
   "codemirror_mode": {
    "name": "ipython",
    "version": 3
   },
   "file_extension": ".py",
   "mimetype": "text/x-python",
   "name": "python",
   "nbconvert_exporter": "python",
   "pygments_lexer": "ipython3",
   "version": "3.7.4"
  },
  "toc": {
   "base_numbering": 1,
   "nav_menu": {},
   "number_sections": true,
   "sideBar": true,
   "skip_h1_title": false,
   "title_cell": "Table of Contents",
   "title_sidebar": "Contents",
   "toc_cell": false,
   "toc_position": {},
   "toc_section_display": true,
   "toc_window_display": false
  }
 },
 "nbformat": 4,
 "nbformat_minor": 4
}
